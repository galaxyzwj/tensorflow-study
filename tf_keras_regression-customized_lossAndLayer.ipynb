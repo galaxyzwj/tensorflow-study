{
 "cells": [
  {
   "cell_type": "code",
   "execution_count": null,
   "metadata": {},
   "outputs": [],
   "source": [
    "import matplotlib as mpl #画图用的库\n",
    "import matplotlib.pyplot as plt\n",
    "#下面这一句是为了可以在notebook中画图\n",
    "%matplotlib inline\n",
    "import numpy as np\n",
    "import sklearn   #机器学习算法库\n",
    "import pandas as pd #处理数据的库   \n",
    "import os\n",
    "import sys\n",
    "import time\n",
    "import tensorflow as tf\n",
    "\n",
    "from tensorflow import keras   #使用tensorflow中的keras\n",
    "#import keras #单纯的使用keras\n",
    "\n",
    "print(tf.__version__)\n",
    "print(sys.version_info)\n",
    "for module in mpl, np, sklearn, pd, tf, keras:\n",
    "    print(module.__name__, module.__version__)"
   ]
  },
  {
   "cell_type": "code",
   "execution_count": null,
   "metadata": {},
   "outputs": [],
   "source": [
    "layer = tf.keras.layers.Dense(10)#None表示不定长，input_shape所表示的意思就是 未知数量的样本，每个样本有5个输入单元\n",
    "layer = tf.keras.layers.Dense(100, input_shape=[None,5])# input_shape只在第一层时才需要添加，不添加系统可自动推导出来\n",
    "layer(tf.zeros([10,5]))#这里定义输入为10*5的矩阵，就是说有10个这样的样本"
   ]
  },
  {
   "cell_type": "code",
   "execution_count": null,
   "metadata": {},
   "outputs": [],
   "source": [
    "#Variables可打印出layer中的所有参数\n",
    "# x*w + b\n",
    "#layer.variables\n",
    "#trainable_variables 打印可训练的参数 这一层有100个神经单元，上一层有5个输入，则总的参数为 5*100+100\n",
    "layer.trainable_variables\n",
    "#trainable_weights 打印可训练的权重\n",
    "#layer.trainable_weights"
   ]
  },
  {
   "cell_type": "code",
   "execution_count": null,
   "metadata": {},
   "outputs": [],
   "source": [
    "#查询layer相关使用\n",
    "help(layer)"
   ]
  },
  {
   "cell_type": "code",
   "execution_count": null,
   "metadata": {},
   "outputs": [],
   "source": [
    "#引用位于sklearn数据集中的房价预测数据集\n",
    "from sklearn.datasets import fetch_california_housing\n",
    "\n",
    "housing = fetch_california_housing()\n",
    "print(housing.DESCR) #数据集的描述\n",
    "print(housing.data.shape) #相当于 x\n",
    "print(housing.target.shape) #相当于 y"
   ]
  },
  {
   "cell_type": "code",
   "execution_count": null,
   "metadata": {},
   "outputs": [],
   "source": [
    "#用sklearn中专门用于划分训练集和测试集的方法\n",
    "from sklearn.model_selection import train_test_split\n",
    "\n",
    "#train_test_split默认将数据划分为3:1，我们可以通过修改test_size值来改变数据划分比例(默认0.25，即3:1)\n",
    "#将总数乘以test_size就表示test测试集、valid验证集数量\n",
    "#将数据集整体拆分为train_all和test数据集\n",
    "x_train_all,x_test, y_train_all,y_test = train_test_split(housing.data, housing.target, random_state=7)\n",
    "#将train_all数据集拆分为train训练集和valid验证集\n",
    "x_train,x_valid, y_train,y_valid = train_test_split(x_train_all, y_train_all, random_state=11)\n",
    "\n",
    "print(x_train_all.shape,y_train_all.shape)\n",
    "print(x_test.shape, y_test.shape)\n",
    "print(x_train.shape, y_train.shape)\n",
    "print(x_valid.shape, y_valid.shape)"
   ]
  },
  {
   "cell_type": "code",
   "execution_count": null,
   "metadata": {},
   "outputs": [],
   "source": [
    "#训练数据归一化处理\n",
    "# x = (x - u)/std  u为均值，std为方差\n",
    "from sklearn.preprocessing import StandardScaler #使用sklearn中的StandardScaler实现训练数据归一化\n",
    "\n",
    "scaler = StandardScaler()#初始化一个scaler对象\n",
    "x_train_scaler = scaler.fit_transform(x_train)#x_train已经是二维数据了，无需astype转换\n",
    "x_valid_scaler = scaler.transform(x_valid)\n",
    "x_test_scaler  = scaler.transform(x_test)"
   ]
  },
  {
   "cell_type": "code",
   "execution_count": null,
   "metadata": {},
   "outputs": [],
   "source": [
    "#tf.nn.softplus: log(1+e^x)\n",
    "#keras.layers.Lambda 对流经该层的数据做个变换，而这个变换本身没有什么需要学习的参数\n",
    "customized_softplus=keras.layers.Lambda(lambda x : tf.nn.softplus(x))\n",
    "print(customized_softplus([-10.,-5.,0.,5.,10.]))"
   ]
  },
  {
   "cell_type": "code",
   "execution_count": null,
   "metadata": {},
   "outputs": [],
   "source": [
    "#自定义损失函数\n",
    "#这里的接口参数为      真实值，预测值\n",
    "def customized_mse(y_true, y_pred):\n",
    "    return tf.reduce_mean(tf.square(y_pred-y_true))\n",
    "\n",
    "\n",
    "#自定义全连接层dense layer,定义一个子类CustomizedDenseLayer，继承于tf.keras.layers.Layer\n",
    "#重载 __init__、build、call三个方法\n",
    "class CustomizedDenseLayer(keras.layers.Layer):\n",
    "    def __init__(self, units, activation=None, **kwargs):\n",
    "        self.units = units\n",
    "        self.activation = keras.layers.Activation(activation)\n",
    "        super(CustomizedDenseLayer, self).__init__(**kwargs)\n",
    "\n",
    "    def build(self,input_shape):\n",
    "        \"\"\"构建所需要的参数\"\"\"\n",
    "        # x * w + b. input_shape=[None, a] w:[a,b] output_shape=[None,b]\n",
    "        self.kernel=self.add_weight(name=\"kernel\",\n",
    "                                    shape=(input_shape[1],self.units),#input_shape中的第二个值，units表示神经单元数 \n",
    "                                    initializer=\"uniform\",#表示如何初始化这个参数矩阵的，uniform表示使用均匀分布来初始化\n",
    "                                    trainable=True) #参数可训练\n",
    "        self.bias=self.add_weight(name=\"bias\",\n",
    "                                  shape=(self.units, ),\n",
    "                                  initializer=\"zeros\",\n",
    "                                  trainable=True)\n",
    "        \n",
    "    def call(self,x):\n",
    "        \"\"\"完成正向计算\"\"\"\n",
    "        return self.activation(x @ self.kernel + self.bias)\n",
    "        \n",
    "#tf.keras.models.Sequential()建立模型\n",
    "model = keras.models.Sequential([\n",
    "    #keras.layers.Dense(30, activation=\"relu\",input_shape=x_train.shape[1:]),\n",
    "    #keras.layers.Dense(1),\n",
    "    #使用自定义的layer来构建模型\n",
    "    CustomizedDenseLayer(30, activation=\"relu\",input_shape=x_train.shape[1:]),\n",
    "    CustomizedDenseLayer(1),\n",
    "    customized_softplus,\n",
    "    #keras.layers.Dense(1,activation=\"softplus\"),\n",
    "    #keras.layers.Dense(1),keras.layers.Activation(\"softplus\"),\n",
    "])\n",
    "#编译model。 loss目标函数为均方差，这里表面上是字符串\"mean_squared_error\"，实际上tensorflow中会映射到对应的算法函数，我们也可以自定义\n",
    "model.compile(loss=customized_mse, optimizer=\"adam\",metrics=[\"mean_squared_error\"])"
   ]
  },
  {
   "cell_type": "code",
   "execution_count": null,
   "metadata": {},
   "outputs": [],
   "source": [
    "#查看model的架构\n",
    "model.summary()"
   ]
  },
  {
   "cell_type": "code",
   "execution_count": null,
   "metadata": {},
   "outputs": [],
   "source": [
    "#使用监听模型训练过程中的callbacks\n",
    "\n",
    "logdir='./callbacks_regression'\n",
    "if not os.path.exists(logdir):\n",
    "    os.mkdir(logdir)\n",
    "output_model_file = os.path.join(logdir,\"regression_california_housing.h5\")\n",
    "\n",
    "#首先定义一个callback数组\n",
    "callbacks = [\n",
    "    #keras.callbacks.TensorBoard(logdir),\n",
    "    #keras.callbacks.ModelCheckpoint(output_model_file,save_best_only=True),\n",
    "    keras.callbacks.EarlyStopping(patience=5,min_delta=1e-3)\n",
    "]\n",
    "\n",
    "history=model.fit(x_train_scaler,y_train,epochs=100,\n",
    "                 validation_data=(x_valid_scaler,y_valid),\n",
    "                 callbacks=callbacks)\n"
   ]
  },
  {
   "cell_type": "code",
   "execution_count": null,
   "metadata": {},
   "outputs": [],
   "source": [
    "#打印模型训练过程中的相关曲线\n",
    "def plot_learning_curves(history):\n",
    "    pd.DataFrame(history.history).plot(figsize=(8,5))\n",
    "    plt.grid(True)\n",
    "    plt.gca().set_ylim(0,1)\n",
    "    plt.show()\n",
    "plot_learning_curves(history)"
   ]
  },
  {
   "cell_type": "code",
   "execution_count": null,
   "metadata": {},
   "outputs": [],
   "source": [
    "model.evaluate(x_test_scaler,y_test)"
   ]
  },
  {
   "cell_type": "code",
   "execution_count": null,
   "metadata": {},
   "outputs": [],
   "source": []
  }
 ],
 "metadata": {
  "kernelspec": {
   "display_name": "Python 3",
   "language": "python",
   "name": "python3"
  },
  "language_info": {
   "codemirror_mode": {
    "name": "ipython",
    "version": 3
   },
   "file_extension": ".py",
   "mimetype": "text/x-python",
   "name": "python",
   "nbconvert_exporter": "python",
   "pygments_lexer": "ipython3",
   "version": "3.6.9"
  }
 },
 "nbformat": 4,
 "nbformat_minor": 2
}

{
 "cells": [
  {
   "cell_type": "code",
   "execution_count": 1,
   "metadata": {},
   "outputs": [
    {
     "name": "stdout",
     "output_type": "stream",
     "text": [
      "2.0.0\n",
      "sys.version_info(major=3, minor=6, micro=9, releaselevel='final', serial=0)\n",
      "matplotlib 3.1.2\n",
      "numpy 1.18.0\n",
      "sklearn 0.21.3\n",
      "pandas 0.25.3\n",
      "tensorflow 2.0.0\n",
      "tensorflow_core.keras 2.2.4-tf\n"
     ]
    }
   ],
   "source": [
    "import matplotlib as mpl #画图用的库\n",
    "import matplotlib.pyplot as plt\n",
    "#下面这一句是为了可以在notebook中画图\n",
    "%matplotlib inline\n",
    "import numpy as np\n",
    "import sklearn   #机器学习算法库\n",
    "import pandas as pd #处理数据的库   \n",
    "import os\n",
    "import sys\n",
    "import time\n",
    "import tensorflow as tf\n",
    " \n",
    "from tensorflow import keras   #使用tensorflow中的keras\n",
    "#import keras #单纯的使用keras\n",
    " \n",
    "print(tf.__version__)\n",
    "print(sys.version_info)\n",
    "for module in mpl, np, sklearn, pd, tf, keras:\n",
    "    print(module.__name__, module.__version__)"
   ]
  },
  {
   "cell_type": "code",
   "execution_count": 2,
   "metadata": {},
   "outputs": [],
   "source": [
    "physical_devices = tf.config.experimental.list_physical_devices('GPU')\n",
    "assert len(physical_devices) > 0, \"Not enough GPU hardware devices available\"\n",
    "tf.config.experimental.set_memory_growth(physical_devices[0], True)"
   ]
  },
  {
   "cell_type": "code",
   "execution_count": 3,
   "metadata": {},
   "outputs": [
    {
     "name": "stdout",
     "output_type": "stream",
     "text": [
      "True\n",
      "True\n",
      "True\n",
      "['n9', 'n8', 'n3', 'n1', 'n5', 'n6', 'n2', 'n0', 'n7', 'n4']\n",
      "['n9', 'n8', 'n3', 'n1', 'n5', 'n6', 'n2', 'n0', 'n7', 'n4']\n"
     ]
    }
   ],
   "source": [
    "train_dir  = \"/home/galaxy/DeepLearning/DATASETS/10-Monkey-Species/training/training/\"\n",
    "valid_dir  = \"/home/galaxy/DeepLearning/DATASETS/10-Monkey-Species/validation/validation/\"\n",
    "label_file = \"/home/galaxy/DeepLearning/DATASETS/10-Monkey-Species/monkey_labels.txt\"\n",
    "\n",
    "print(os.path.exists(train_dir))\n",
    "print(os.path.exists(valid_dir))\n",
    "print(os.path.exists(label_file))\n",
    "\n",
    "print(os.listdir(train_dir))\n",
    "print(os.listdir(valid_dir))"
   ]
  },
  {
   "cell_type": "code",
   "execution_count": 4,
   "metadata": {},
   "outputs": [
    {
     "name": "stdout",
     "output_type": "stream",
     "text": [
      "   Label     Latin Name              Common Name                     \\\n",
      "0  n0         alouatta_palliata\\t    mantled_howler                   \n",
      "1  n1        erythrocebus_patas\\t    patas_monkey                     \n",
      "2  n2        cacajao_calvus\\t        bald_uakari                      \n",
      "3  n3        macaca_fuscata\\t        japanese_macaque                 \n",
      "4  n4       cebuella_pygmea\\t        pygmy_marmoset                   \n",
      "5  n5       cebus_capucinus\\t        white_headed_capuchin            \n",
      "6  n6       mico_argentatus\\t        silvery_marmoset                 \n",
      "7  n7      saimiri_sciureus\\t        common_squirrel_monkey           \n",
      "8  n8       aotus_nigriceps\\t        black_headed_night_monkey        \n",
      "9  n9       trachypithecus_johnii    nilgiri_langur                   \n",
      "\n",
      "    Train Images    Validation Images  \n",
      "0             131                  26  \n",
      "1             139                  28  \n",
      "2             137                  27  \n",
      "3             152                  30  \n",
      "4             131                  26  \n",
      "5             141                  28  \n",
      "6             132                  26  \n",
      "7             142                  28  \n",
      "8             133                  27  \n",
      "9             132                  26  \n"
     ]
    }
   ],
   "source": [
    "labels = pd.read_csv(label_file, header=0)\n",
    "print(labels)"
   ]
  },
  {
   "cell_type": "code",
   "execution_count": 5,
   "metadata": {},
   "outputs": [
    {
     "name": "stdout",
     "output_type": "stream",
     "text": [
      "Found 1098 images belonging to 10 classes.\n",
      "{'n0': 0, 'n1': 1, 'n2': 2, 'n3': 3, 'n4': 4, 'n5': 5, 'n6': 6, 'n7': 7, 'n8': 8, 'n9': 9}\n",
      "Found 272 images belonging to 10 classes.\n",
      "{'n0': 0, 'n1': 1, 'n2': 2, 'n3': 3, 'n4': 4, 'n5': 5, 'n6': 6, 'n7': 7, 'n8': 8, 'n9': 9}\n",
      "1098 272\n"
     ]
    }
   ],
   "source": [
    "##################################\n",
    "####该模块主要用于获取文件夹下的图片####\n",
    "##################################\n",
    "\n",
    "#resnet50使用的图像宽高均为224\n",
    "#height      = 224\n",
    "#width       = 224\n",
    "height      = 128 #设置图像被缩放的宽高\n",
    "width       = 128\n",
    "channels    = 3   #图像通道数\n",
    "batch_size  = 32\n",
    "num_classes = 10\n",
    "\n",
    "##########------------训练集数据------------##########\n",
    "#初始化一个训练数据相关的generator\n",
    "#具体用于 数据集中的图片数据进行处理，可以对图片数据进行归一化、旋转、翻转等数据增强类操作\n",
    "train_datagen = keras.preprocessing.image.ImageDataGenerator(\n",
    "    preprocessing_function = keras.applications.resnet50.preprocess_input,#resnet50专门用来预处理图像的函数，把图像做归一化到-1~1之间\n",
    "    # 使用第一行preprocessing_function 就不需要 rescale\n",
    "    #rescale           = 1./255, #放缩因子, 除以255是因为图片中每个像素点值范围都在0~255之间\n",
    "    rotation_range    = 40,  #图片随机转动的角度范围(-40 ~ 40)\n",
    "    width_shift_range = 0.2, #值 < 1时，表示偏移的比例，即在 0～值 这个比例幅度之间进行偏移\n",
    "    height_shift_range= 0.2, #值 > 1时，表示像素宽度，即该图片的偏移幅度大小\n",
    "    shear_range       = 0.2, #剪切强度\n",
    "    zoom_range        = 0.2, #缩放强度\n",
    "    horizontal_flip   = True,#水平随机翻转\n",
    "    fill_mode         = 'nearest',#像素填充模式\n",
    ")\n",
    "#接下来读取目录下的图片然后按照上面的数据增强相关操作对图片进行处理\n",
    "train_generator = train_datagen.flow_from_directory(train_dir, \n",
    "                                                    target_size = (height,width), #目录下的图片会被resize的大小\n",
    "                                                    batch_size  = batch_size,\n",
    "                                                    seed        = 7,#随机种子，用于洗牌和转换，随便给个数即可\n",
    "                                                    shuffle     = True,#False->则按字母数字顺序对数据进行排序 True->打乱数据\n",
    "                                                    class_mode  = \"categorical\", # 该参数决定了返回的标签数组的形式\n",
    "                                                    #classes     = 这个参数就是描述的 文件夹名与输出标签的对应关系\n",
    "                                                   )\n",
    "#classes：可选参数,为子文件夹的列表,如['dogs','cats']默认为None. 若未提供,则该类别列表将从directory下的子文件夹名称/结构自动推断。\n",
    "#每一个子文件夹都会被认为是一个新的类。(类别的顺序将按照字母表顺序映射到标签值)。通过属性class_indices可获得文件夹名与类的序号的对应字典。\n",
    "\n",
    "#使用生成器的.class_indices方法即可获取模型默认的Labels序列，文件夹名与类的序号的对应字典\n",
    "print(train_generator.class_indices)\n",
    "\n",
    "\n",
    "##########------------验证集数据------------##########\n",
    "#初始化一个验证数据相关的generator\n",
    "#验证数据集上不需要进行数据增强的相关操作，仅保留缩放即可，不然的话训练集与验证集的值的分布会不同\n",
    "valid_datagen = keras.preprocessing.image.ImageDataGenerator(\n",
    "    preprocessing_function = keras.applications.resnet50.preprocess_input,#resnet50专门用来预处理图像的函数，相当于归一化，所以无需rescale\n",
    "    #rescale           = 1./255, #放缩因子, 除以255是因为图片中每个像素点值范围都在0~255之间\n",
    ")\n",
    "#接下来读取目录下的图片然后按照上面的数据增强相关操作对图片进行处理\n",
    "valid_generator = valid_datagen.flow_from_directory(valid_dir, \n",
    "                                                    target_size = (height,width), #目录下的图片会被resize的大小\n",
    "                                                    batch_size  = batch_size,\n",
    "                                                    seed        = 7,#随机种子，用于洗牌和转换，随便给个数即可\n",
    "                                                    shuffle     = False,#不需要训练所以不需要打乱数据\n",
    "                                                    class_mode  = \"categorical\", # 该参数决定了返回的标签数组的形式\n",
    "                                                    )\n",
    "#使用生成器的.class_indices方法即可获取模型默认的Labels序列，文件夹名与类的序号的对应字典\n",
    "print(valid_generator.class_indices)\n",
    "\n",
    "train_num = train_generator.samples\n",
    "valid_num = valid_generator.samples\n",
    "print(train_num, valid_num)"
   ]
  },
  {
   "cell_type": "code",
   "execution_count": 6,
   "metadata": {
    "scrolled": false
   },
   "outputs": [
    {
     "name": "stdout",
     "output_type": "stream",
     "text": [
      "(32, 128, 128, 3) (32, 10)\n",
      "[[0. 0. 0. 0. 0. 0. 0. 0. 1. 0.]\n",
      " [0. 0. 0. 0. 1. 0. 0. 0. 0. 0.]\n",
      " [0. 0. 0. 0. 0. 0. 1. 0. 0. 0.]\n",
      " [0. 0. 0. 0. 0. 0. 0. 0. 0. 1.]\n",
      " [0. 0. 0. 0. 0. 0. 1. 0. 0. 0.]\n",
      " [0. 0. 0. 0. 0. 1. 0. 0. 0. 0.]\n",
      " [0. 1. 0. 0. 0. 0. 0. 0. 0. 0.]\n",
      " [0. 0. 1. 0. 0. 0. 0. 0. 0. 0.]\n",
      " [0. 0. 0. 0. 0. 0. 0. 1. 0. 0.]\n",
      " [0. 0. 0. 1. 0. 0. 0. 0. 0. 0.]\n",
      " [0. 1. 0. 0. 0. 0. 0. 0. 0. 0.]\n",
      " [0. 1. 0. 0. 0. 0. 0. 0. 0. 0.]\n",
      " [0. 0. 0. 0. 0. 0. 0. 1. 0. 0.]\n",
      " [0. 0. 0. 0. 0. 1. 0. 0. 0. 0.]\n",
      " [1. 0. 0. 0. 0. 0. 0. 0. 0. 0.]\n",
      " [0. 0. 0. 0. 1. 0. 0. 0. 0. 0.]\n",
      " [0. 0. 0. 0. 1. 0. 0. 0. 0. 0.]\n",
      " [0. 0. 0. 0. 0. 0. 0. 1. 0. 0.]\n",
      " [0. 0. 0. 0. 0. 0. 0. 1. 0. 0.]\n",
      " [0. 0. 0. 0. 1. 0. 0. 0. 0. 0.]\n",
      " [0. 0. 1. 0. 0. 0. 0. 0. 0. 0.]\n",
      " [0. 0. 0. 0. 0. 1. 0. 0. 0. 0.]\n",
      " [0. 1. 0. 0. 0. 0. 0. 0. 0. 0.]\n",
      " [0. 0. 0. 0. 0. 1. 0. 0. 0. 0.]\n",
      " [0. 0. 0. 0. 0. 0. 0. 0. 0. 1.]\n",
      " [0. 0. 0. 0. 0. 0. 1. 0. 0. 0.]\n",
      " [0. 0. 0. 1. 0. 0. 0. 0. 0. 0.]\n",
      " [1. 0. 0. 0. 0. 0. 0. 0. 0. 0.]\n",
      " [1. 0. 0. 0. 0. 0. 0. 0. 0. 0.]\n",
      " [0. 0. 0. 1. 0. 0. 0. 0. 0. 0.]\n",
      " [0. 1. 0. 0. 0. 0. 0. 0. 0. 0.]\n",
      " [0. 0. 0. 1. 0. 0. 0. 0. 0. 0.]]\n"
     ]
    }
   ],
   "source": [
    "for i in range(1):\n",
    "    x,y = train_generator.next()\n",
    "    print(x.shape, y.shape)\n",
    "    print(y)\n",
    "#因为 class_mode 设置为categorical，所以label标签返回的是2D的one-hot编码标签(2-> one_hot -> [0, 0, 1])"
   ]
  },
  {
   "cell_type": "code",
   "execution_count": 7,
   "metadata": {},
   "outputs": [
    {
     "name": "stdout",
     "output_type": "stream",
     "text": [
      "Model: \"sequential\"\n",
      "_________________________________________________________________\n",
      "Layer (type)                 Output Shape              Param #   \n",
      "=================================================================\n",
      "resnet50 (Model)             (None, 2048)              23587712  \n",
      "_________________________________________________________________\n",
      "dense (Dense)                (None, 10)                20490     \n",
      "=================================================================\n",
      "Total params: 23,608,202\n",
      "Trainable params: 1,075,210\n",
      "Non-trainable params: 22,532,992\n",
      "_________________________________________________________________\n"
     ]
    }
   ],
   "source": [
    "#使用resnet50做迁移学习\n",
    "\n",
    "'''\n",
    "#1.这里ResNet50层当做一层，只有最后一层是可以被训练的\n",
    "resnet50_fine_tune = keras.models.Sequential([\n",
    "    keras.applications.ResNet50(include_top=False,#include_top：是否保留顶层的全连接网络,这里最后要定义自己的softmax选False\n",
    "                                pooling='avg',#‘avg’代表全局平均池化，‘max’代表全局最大值池化\n",
    "                                weights='imagenet',#None代表随机初始化，即不加载预训练权重；'imagenet’代表加载预训练权重\n",
    "                               ),\n",
    "    keras.layers.Dense(num_classes, activation='softmax'),    \n",
    "])\n",
    "resnet50_fine_tune.layers[0].trainable=False #设置ResNet50这一层的参数不可训练，因为 weights='imagenet'\n",
    "'''\n",
    "\n",
    "#2.这里ResNet50中最后几层都是可以训练,我们可以在模型架构里面看到 Trainable params可训练参数会大大增加\n",
    "resnet50 = keras.applications.ResNet50(include_top=False, pooling='avg', weights='imagenet')\n",
    "for layers in resnet50.layers[0:-5]: #这里遍历最后五层之前的layers并设置其权重相关参数不可遍历\n",
    "    layers.trainable = False\n",
    "\n",
    "resnet50_fine_tune = keras.models.Sequential([\n",
    "    resnet50,\n",
    "    keras.layers.Dense(num_classes, activation='softmax'),    \n",
    "])\n",
    "\n",
    "'''\n",
    "model = keras.models.Sequential([\n",
    "    keras.layers.Conv2D(filters=32, kernel_size=3, padding=\"same\", activation=\"relu\",input_shape=(width, height, channels)),\n",
    "    keras.layers.Conv2D(filters=32, kernel_size=3, padding=\"same\", activation=\"relu\"),\n",
    "    keras.layers.MaxPool2D(pool_size=2),\n",
    "    \n",
    "    keras.layers.Conv2D(filters=64, kernel_size=3, padding=\"same\", activation=\"relu\"),\n",
    "    keras.layers.Conv2D(filters=64, kernel_size=3, padding=\"same\", activation=\"relu\"),\n",
    "    keras.layers.MaxPool2D(pool_size=2),\n",
    "    \n",
    "    keras.layers.Conv2D(filters=128, kernel_size=3, padding=\"same\", activation=\"relu\"),\n",
    "    keras.layers.Conv2D(filters=128, kernel_size=3, padding=\"same\", activation=\"relu\"),\n",
    "    keras.layers.MaxPool2D(pool_size=2),\n",
    "    \n",
    "    keras.layers.Flatten(),\n",
    "    keras.layers.Dense(128,activation=\"relu\"),\n",
    "    keras.layers.Dense(num_classes, activation=\"softmax\"),\n",
    "])\n",
    "'''\n",
    "\n",
    "#损失函数 sparse_categorical_crossentropy 和 categorical_crossentropy 的选择取决于前面设定的y值的取值类型\n",
    "#如果y取值为 2D的 one-hot编码，则选择 categorical_crossentropy\n",
    "#如果y取值为 1D的 整数标签，则选择 sparse_categorical_crossentropy\n",
    "#前面的 tensorflow2------分类问题fashion_mnist 文章中有过相关描述\n",
    "# metrics 表示选择 accuracy作为评价参数\n",
    "resnet50_fine_tune.compile(loss=\"categorical_crossentropy\", optimizer=\"adam\",metrics=[\"accuracy\"])\n",
    "\n",
    "resnet50_fine_tune.summary()"
   ]
  },
  {
   "cell_type": "code",
   "execution_count": 8,
   "metadata": {},
   "outputs": [
    {
     "name": "stdout",
     "output_type": "stream",
     "text": [
      "Epoch 1/10\n",
      "34/34 [==============================] - 17s 506ms/step - loss: 1.0719 - accuracy: 0.6614 - val_loss: 0.7943 - val_accuracy: 0.8828\n",
      "Epoch 2/10\n",
      "34/34 [==============================] - 16s 470ms/step - loss: 0.5916 - accuracy: 0.8030 - val_loss: 0.8710 - val_accuracy: 0.8555\n",
      "Epoch 3/10\n",
      "34/34 [==============================] - 17s 493ms/step - loss: 0.4014 - accuracy: 0.8771 - val_loss: 0.6169 - val_accuracy: 0.8867\n",
      "Epoch 4/10\n",
      "34/34 [==============================] - 17s 497ms/step - loss: 0.3569 - accuracy: 0.8809 - val_loss: 0.2539 - val_accuracy: 0.9531\n",
      "Epoch 5/10\n",
      "34/34 [==============================] - 16s 476ms/step - loss: 0.3023 - accuracy: 0.8968 - val_loss: 0.4478 - val_accuracy: 0.8906\n",
      "Epoch 6/10\n",
      "34/34 [==============================] - 16s 466ms/step - loss: 0.2691 - accuracy: 0.9109 - val_loss: 0.7037 - val_accuracy: 0.8828\n",
      "Epoch 7/10\n",
      "34/34 [==============================] - 16s 485ms/step - loss: 0.2267 - accuracy: 0.9212 - val_loss: 0.7834 - val_accuracy: 0.9023\n",
      "Epoch 8/10\n",
      "34/34 [==============================] - 16s 459ms/step - loss: 0.2234 - accuracy: 0.9231 - val_loss: 0.7226 - val_accuracy: 0.8984\n",
      "Epoch 9/10\n",
      "34/34 [==============================] - 16s 476ms/step - loss: 0.2005 - accuracy: 0.9465 - val_loss: 0.5425 - val_accuracy: 0.9102\n"
     ]
    }
   ],
   "source": [
    "import shutil\n",
    "\n",
    "callback_dir = \"./callback_10-monkey-species\"\n",
    "\n",
    "if os.path.exists(callback_dir):\n",
    "    shutil.rmtree(callback_dir)\n",
    "os.mkdir(callback_dir)\n",
    "\n",
    "output_model_file=os.path.join(callback_dir,\"10Monkey_model.h5\")#在logdir中创建一个模型文件.h5\n",
    "\n",
    "callbacks = [\n",
    "    keras.callbacks.TensorBoard(callback_dir),\n",
    "    keras.callbacks.ModelCheckpoint(output_model_file, save_best_only=True),\n",
    "    keras.callbacks.EarlyStopping(patience=5,min_delta=1e-3),    \n",
    "]\n",
    "\n",
    "\n",
    "epochs = 10#使用fine_tune 不需要太多次迭代就能够达到一个较好的效果\n",
    "'''\n",
    "#使用fit_generator是因为使用的是 ImageDataGenerator 获取数据集数据的\n",
    "history = model.fit_generator(train_generator,#steps_per_epoch: 一个epoch包含的步数（每一步是一个batch的数据送入）\n",
    "                              steps_per_epoch = train_num // batch_size,\n",
    "                              epochs          = epochs,\n",
    "                              validation_data = valid_generator,\n",
    "                              validation_steps= valid_num // batch_size,\n",
    "                              callbacks       = callbacks,\n",
    "                             )\n",
    "'''\n",
    "history = resnet50_fine_tune.fit_generator(train_generator,#steps_per_epoch: 一个epoch包含的步数（每一步是一个batch的数据送入）\n",
    "                              steps_per_epoch = train_num // batch_size,\n",
    "                              epochs          = epochs,\n",
    "                              validation_data = valid_generator,\n",
    "                              validation_steps= valid_num // batch_size,\n",
    "                              callbacks       = callbacks,\n",
    "                             )\n",
    "#运行打印看到val_accuracy的值并没有逐渐变大而是一直保持不变，是因为激活函数使用的是selu导致，可尝试更换激活函数为relu"
   ]
  },
  {
   "cell_type": "code",
   "execution_count": 9,
   "metadata": {},
   "outputs": [
    {
     "data": {
      "text/plain": [
       "<matplotlib.image.AxesImage at 0x7fe7dc4da5f8>"
      ]
     },
     "execution_count": 9,
     "metadata": {},
     "output_type": "execute_result"
    },
    {
     "data": {
      "image/png": "[encoded data removed]",
      "text/plain": [
       "<Figure size 432x288 with 1 Axes>"
      ]
     },
     "metadata": {
      "needs_background": "light"
     },
     "output_type": "display_data"
    }
   ],
   "source": [
    "def preprocess_img(image):\n",
    "    image = tf.image.decode_jpeg(image,channels=3)\n",
    "    image = tf.image.resize(image,[width,height])\n",
    "    image /= 255.0\n",
    "    return image\n",
    "\n",
    "def load_and_preprocess_image(path):\n",
    "    image = tf.io.read_file(path)\n",
    "    return preprocess_img(image)\n",
    "\n",
    "\n",
    "#image_path_test = '/home/galaxy/DeepLearning/DATASETS/10-Monkey-Species/testImg/white_headed_capuchin.jpg'\n",
    "image_path_test = '/home/galaxy/DeepLearning/DATASETS/10-Monkey-Species/testImg/japanese_macaque.jpg'\n",
    "\n",
    "image = load_and_preprocess_image(image_path_test)\n",
    "plt.imshow(image)"
   ]
  },
  {
   "cell_type": "code",
   "execution_count": 10,
   "metadata": {},
   "outputs": [
    {
     "name": "stdout",
     "output_type": "stream",
     "text": [
      "(128, 128, 3)\n",
      "(1, 128, 128, 3)\n",
      "array([[2.86323209e-16, 1.02518805e-09, 6.43146951e-12, 9.99995470e-01,\n",
      "        2.64310107e-09, 5.72158265e-10, 4.45466458e-06, 1.10910907e-11,\n",
      "        9.24227888e-15, 1.14730796e-07]], dtype=float32)\n",
      "[3]\n",
      "[3]\n",
      "This is a  japanese_macaque\n"
     ]
    }
   ],
   "source": [
    "from tensorflow.keras.preprocessing import image\n",
    "import pprint\n",
    "\n",
    "img = image.load_img(image_path_test, target_size=(height, width))\n",
    "img = image.img_to_array(img)\n",
    "print(img.shape)#这里直接打印将img转换为数组后的数据维度 (128,128,3)\n",
    "#因为模型的输入是要求四维的，所以我们需要将输入图片增加一个维度，使用 expand_dims接口\n",
    "img = np.expand_dims(img, axis=0)\n",
    "print(img.shape)\n",
    "\n",
    "\n",
    "#predict表示预测输出当前输入图像的 所有类型概率数组，即包含十个概率值的数组\n",
    "pred = resnet50_fine_tune.predict(img)\n",
    "pprint.pprint(pred)\n",
    "print(np.argmax(pred,axis=1))#axis = 1是取行的最大值的索引，axis = 0是列的最大值的索引\n",
    "\n",
    "#predict_classes 预测的是类别，打印出来的值就是类别号\n",
    "pred_class = resnet50_fine_tune.predict_classes(img)\n",
    "print(pred_class)\n",
    "\n",
    "#建立对应的文件夹排序的标签数组打印出预测的标签\n",
    "monkey_names = ['mantled_howler',\n",
    "                'patas_monkey',\n",
    "                'bald_uakari',\n",
    "                'japanese_macaque',\n",
    "                'pygmy_marmoset',\n",
    "                'white_headed_capuchin',\n",
    "                'silvery_marmoset',\n",
    "                'common_squirrel_monkey',\n",
    "                'black_headed_night_monkey',\n",
    "                'nilgiri_langur']\n",
    "label_name = [monkey_names[index] for index in pred_class]\n",
    "print(\"This is a \",''.join(label_name))#list转换为string"
   ]
  }
 ],
 "metadata": {
  "kernelspec": {
   "display_name": "Python 3",
   "language": "python",
   "name": "python3"
  },
  "language_info": {
   "codemirror_mode": {
    "name": "ipython",
    "version": 3
   },
   "file_extension": ".py",
   "mimetype": "text/x-python",
   "name": "python",
   "nbconvert_exporter": "python",
   "pygments_lexer": "ipython3",
   "version": "3.6.9"
  }
 },
 "nbformat": 4,
 "nbformat_minor": 2
}

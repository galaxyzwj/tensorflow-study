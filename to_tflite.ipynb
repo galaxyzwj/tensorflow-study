{
 "cells": [
  {
   "cell_type": "code",
   "execution_count": 1,
   "metadata": {
    "scrolled": true
   },
   "outputs": [
    {
     "name": "stdout",
     "output_type": "stream",
     "text": [
      "2.0.0\n",
      "sys.version_info(major=3, minor=6, micro=9, releaselevel='final', serial=0)\n",
      "matplotlib 3.1.2\n",
      "numpy 1.18.0\n",
      "sklearn 0.21.3\n",
      "pandas 0.25.3\n",
      "tensorflow 2.0.0\n",
      "tensorflow_core.keras 2.2.4-tf\n"
     ]
    }
   ],
   "source": [
    "import matplotlib as mpl #画图用的库\n",
    "import matplotlib.pyplot as plt\n",
    "#下面这一句是为了可以在notebook中画图\n",
    "%matplotlib inline\n",
    "import numpy as np\n",
    "import sklearn   #机器学习算法库\n",
    "import pandas as pd #处理数据的库   \n",
    "import os\n",
    "import sys\n",
    "import time\n",
    "import tensorflow as tf\n",
    " \n",
    "from tensorflow import keras   #使用tensorflow中的keras\n",
    "#import keras #单纯的使用keras\n",
    " \n",
    "print(tf.__version__)\n",
    "print(sys.version_info)\n",
    "for module in mpl, np, sklearn, pd, tf, keras:\n",
    "    print(module.__name__, module.__version__)"
   ]
  },
  {
   "cell_type": "code",
   "execution_count": 2,
   "metadata": {},
   "outputs": [],
   "source": [
    "physical_devices = tf.config.experimental.list_physical_devices('GPU')\n",
    "assert len(physical_devices) > 0, \"Not enough GPU hardware devices available\"\n",
    "tf.config.experimental.set_memory_growth(physical_devices[0], True)"
   ]
  },
  {
   "cell_type": "code",
   "execution_count": 3,
   "metadata": {},
   "outputs": [
    {
     "data": {
      "text/plain": [
       "<tf.Tensor: id=1762, shape=(1, 10), dtype=float32, numpy=\n",
       "array([[3.4305863e-09, 3.6168969e-01, 6.5676955e-04, 1.2235546e-08,\n",
       "        2.0280746e-13, 4.3944897e-08, 1.8053763e-13, 1.2191995e-06,\n",
       "        1.2059320e-01, 5.1705909e-01]], dtype=float32)>"
      ]
     },
     "execution_count": 3,
     "metadata": {},
     "output_type": "execute_result"
    }
   ],
   "source": [
    "loaded_keras_model = keras.models.load_model('./graph_def_and_weights/fashion_mnist_weights.h5')\n",
    "loaded_keras_model(np.ones((1,28,28,1)))"
   ]
  },
  {
   "cell_type": "code",
   "execution_count": 4,
   "metadata": {},
   "outputs": [],
   "source": [
    "#keras model 保存为 TFLite\n",
    "keras_to_tflite_converter = tf.lite.TFLiteConverter.from_keras_model(loaded_keras_model)\n",
    "#量化tflite 模型，可以在损失较小精度或不影响精度的情况下减小模型大小\n",
    "keras_to_tflite_converter.optimizations = [tf.lite.Optimize.OPTIMIZE_FOR_SIZE]\n",
    "keras_tflite=keras_to_tflite_converter.convert()\n",
    "\n",
    "if not os.path.exists('./tflite_models'):\n",
    "    os.mkdir('./tflite_models')\n",
    "#with open('./tflite_models/keras_tflite', 'wb') as f:\n",
    "#    f.write(keras_tflite)\n",
    "#保存量化的 tflite 模型    \n",
    "with open('./tflite_models/quantized_keras_tflite', 'wb') as f:\n",
    "    f.write(keras_tflite)"
   ]
  },
  {
   "cell_type": "code",
   "execution_count": 5,
   "metadata": {},
   "outputs": [
    {
     "data": {
      "text/plain": [
       "<tf.Tensor: id=2258, shape=(1, 10), dtype=float32, numpy=\n",
       "array([[3.4305863e-09, 3.6168969e-01, 6.5676955e-04, 1.2235546e-08,\n",
       "        2.0280746e-13, 4.3944897e-08, 1.8053763e-13, 1.2191995e-06,\n",
       "        1.2059320e-01, 5.1705909e-01]], dtype=float32)>"
      ]
     },
     "execution_count": 5,
     "metadata": {},
     "output_type": "execute_result"
    }
   ],
   "source": [
    "run_model = tf.function(lambda x : loaded_keras_model(x))\n",
    "keras_concrete_function = run_model.get_concrete_function(\n",
    "    tf.TensorSpec(loaded_keras_model.inputs[0].shape,\n",
    "                  loaded_keras_model.inputs[0].dtype)\n",
    ")\n",
    "keras_concrete_function(tf.constant(np.ones((1,28,28,1), dtype=np.float32)))"
   ]
  },
  {
   "cell_type": "code",
   "execution_count": 6,
   "metadata": {},
   "outputs": [],
   "source": [
    "#concrete function 保存为 TFLite\n",
    "concrete_func_to_tflite_converter = tf.lite.TFLiteConverter.from_concrete_functions([keras_concrete_function])\n",
    "#量化tflite 模型，可以在损失较小精度或不影响精度的情况下减小模型大小\n",
    "concrete_func_to_tflite_converter.optimizations = [tf.lite.Optimize.OPTIMIZE_FOR_SIZE]\n",
    "concrete_func_tflite = concrete_func_to_tflite_converter.convert()\n",
    "\n",
    "#with open('./tflite_models/concrete_func_tflite', 'wb') as f:\n",
    "#    f.write(concrete_func_tflite)\n",
    "#保存量化的 tflite 模型\n",
    "with open('./tflite_models/quantized_concrete_func_tflite', 'wb') as f:\n",
    "    f.write(concrete_func_tflite)"
   ]
  },
  {
   "cell_type": "code",
   "execution_count": 7,
   "metadata": {},
   "outputs": [],
   "source": [
    "#savedModel 保存为 TFLite\n",
    "saved_model_to_tflite_converter = tf.lite.TFLiteConverter.from_saved_model('./keras_saved_graph/')\n",
    "#量化tflite 模型，可以在损失较小精度或不影响精度的情况下减小模型大小\n",
    "saved_model_to_tflite_converter.optimizations = [tf.lite.Optimize.OPTIMIZE_FOR_SIZE]\n",
    "saved_model_tflite = saved_model_to_tflite_converter.convert()\n",
    "\n",
    "#with open('./tflite_models/saved_model_tflite', 'wb') as f:\n",
    "#    f.write(saved_model_tflite)\n",
    "#保存量化的 tflite 模型\n",
    "with open('./tflite_models/quantized_saved_model_tflite', 'wb') as f:\n",
    "    f.write(concrete_func_tflite)    "
   ]
  },
  {
   "cell_type": "code",
   "execution_count": 10,
   "metadata": {},
   "outputs": [
    {
     "name": "stdout",
     "output_type": "stream",
     "text": [
      "[{'name': 'conv2d_input', 'index': 1, 'shape': array([ 1, 28, 28,  1], dtype=int32), 'dtype': <class 'numpy.float32'>, 'quantization': (0.0, 0)}]\n",
      "[{'name': 'Identity', 'index': 0, 'shape': array([ 1, 10], dtype=int32), 'dtype': <class 'numpy.float32'>, 'quantization': (0.0, 0)}]\n"
     ]
    }
   ],
   "source": [
    "#\n",
    "# tflite 解释器\n",
    "#\n",
    "\n",
    "#以前面的concrete_func_tflite为例\n",
    "interpreter = tf.lite.Interpreter(model_content=concrete_func_tflite)\n",
    "interpreter.allocate_tensors()#给所有的tensor分配内存\n",
    "\n",
    "#获取 input 和 output tensor\n",
    "input_details = interpreter.get_input_details()\n",
    "output_details = interpreter.get_output_details()\n",
    "\n",
    "#输出字典\n",
    "print(input_details)\n",
    "print(output_details)"
   ]
  },
  {
   "cell_type": "code",
   "execution_count": 11,
   "metadata": {},
   "outputs": [
    {
     "name": "stdout",
     "output_type": "stream",
     "text": [
      "[[2.3221240e-08 2.5767106e-01 1.1340029e-03 6.2593401e-08 2.9228692e-12\n",
      "  3.0864484e-07 3.4217976e-12 6.7463984e-06 2.1669313e-01 5.2449471e-01]]\n"
     ]
    }
   ],
   "source": [
    "#手动设置输入参数\n",
    "input_shape = input_details[0]['shape']#设置输入维度\n",
    "input_data = tf.constant(np.ones(input_shape, dtype=np.float32))\n",
    "interpreter.set_tensor(input_details[0]['index'],input_data)\n",
    "\n",
    "#执行预测\n",
    "interpreter.invoke()\n",
    "\n",
    "output_results = interpreter.get_tensor(output_details[0]['index'])\n",
    "print(output_results)#十个标签概率值的概率分布"
   ]
  },
  {
   "cell_type": "code",
   "execution_count": null,
   "metadata": {},
   "outputs": [],
   "source": []
  }
 ],
 "metadata": {
  "kernelspec": {
   "display_name": "Python 3",
   "language": "python",
   "name": "python3"
  },
  "language_info": {
   "codemirror_mode": {
    "name": "ipython",
    "version": 3
   },
   "file_extension": ".py",
   "mimetype": "text/x-python",
   "name": "python",
   "nbconvert_exporter": "python",
   "pygments_lexer": "ipython3",
   "version": "3.6.9"
  }
 },
 "nbformat": 4,
 "nbformat_minor": 2
}

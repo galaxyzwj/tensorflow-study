{
 "cells": [
  {
   "cell_type": "code",
   "execution_count": 1,
   "metadata": {},
   "outputs": [
    {
     "name": "stdout",
     "output_type": "stream",
     "text": [
      "2.0.0\n",
      "sys.version_info(major=3, minor=6, micro=9, releaselevel='final', serial=0)\n",
      "matplotlib 3.1.2\n",
      "numpy 1.18.0\n",
      "sklearn 0.21.3\n",
      "pandas 0.25.3\n",
      "tensorflow 2.0.0\n",
      "tensorflow_core.keras 2.2.4-tf\n"
     ]
    }
   ],
   "source": [
    "import matplotlib as mpl #画图用的库\n",
    "import matplotlib.pyplot as plt\n",
    "#下面这一句是为了可以在notebook中画图\n",
    "%matplotlib inline\n",
    "import numpy as np\n",
    "import sklearn   #机器学习算法库\n",
    "import pandas as pd #处理数据的库   \n",
    "import os\n",
    "import sys\n",
    "import time\n",
    "import tensorflow as tf\n",
    "\n",
    "from tensorflow import keras   #使用tensorflow中的keras\n",
    "#import keras #单纯的使用keras\n",
    "\n",
    "print(tf.__version__)\n",
    "print(sys.version_info)\n",
    "for module in mpl, np, sklearn, pd, tf, keras:\n",
    "    print(module.__name__, module.__version__)"
   ]
  },
  {
   "cell_type": "code",
   "execution_count": 2,
   "metadata": {},
   "outputs": [
    {
     "name": "stdout",
     "output_type": "stream",
     "text": [
      "tf.Tensor(\n",
      "[[1. 2. 3.]\n",
      " [4. 5. 6.]], shape=(2, 3), dtype=float32)\n",
      "tf.Tensor(\n",
      "[[2. 3.]\n",
      " [5. 6.]], shape=(2, 2), dtype=float32)\n",
      "tf.Tensor([2. 5.], shape=(2,), dtype=float32)\n"
     ]
    }
   ],
   "source": [
    "t = tf.constant([[1.,2.,3.],[4.,5.,6.]])\n",
    "print(t) #这里输出的是 一个 tensor\n",
    "print(t[:,1:]) #输出 第二列之后的矩阵tensor\n",
    "print(t[...,1]) #输出 第二列tensor"
   ]
  },
  {
   "cell_type": "code",
   "execution_count": 3,
   "metadata": {},
   "outputs": [
    {
     "name": "stdout",
     "output_type": "stream",
     "text": [
      "tf.Tensor(\n",
      "[[11. 12. 13.]\n",
      " [14. 15. 16.]], shape=(2, 3), dtype=float32)\n",
      "tf.Tensor(\n",
      "[[ 1.  4.  9.]\n",
      " [16. 25. 36.]], shape=(2, 3), dtype=float32)\n",
      "tf.Tensor(\n",
      "[[1. 4.]\n",
      " [2. 5.]\n",
      " [3. 6.]], shape=(3, 2), dtype=float32)\n"
     ]
    }
   ],
   "source": [
    "#ops算子操作\n",
    "print(t+10)\n",
    "print(tf.square(t))\n",
    "print(tf.transpose(t))#transpose表示转置"
   ]
  },
  {
   "cell_type": "code",
   "execution_count": 4,
   "metadata": {},
   "outputs": [
    {
     "name": "stdout",
     "output_type": "stream",
     "text": [
      "[[1. 2. 3.]\n",
      " [4. 5. 6.]]\n",
      "[[ 1.  4.  9.]\n",
      " [16. 25. 36.]]\n",
      "tf.Tensor(\n",
      "[[7. 8. 9.]\n",
      " [6. 5. 4.]], shape=(2, 3), dtype=float64)\n"
     ]
    }
   ],
   "source": [
    "#tensorflow与numpy相互转换\n",
    "print(t.numpy()) #调用numpy方法将 矩阵 直接取出\n",
    "print(np.square(t))\n",
    "np_t=np.array([[7.,8.,9.],[6.,5.,4.]])\n",
    "print(tf.constant(np_t))"
   ]
  },
  {
   "cell_type": "code",
   "execution_count": 5,
   "metadata": {},
   "outputs": [
    {
     "name": "stdout",
     "output_type": "stream",
     "text": [
      "tf.Tensor(2.55, shape=(), dtype=float32)\n",
      "()\n",
      "2.55\n",
      "[1. 2.]\n",
      "(2,)\n"
     ]
    }
   ],
   "source": [
    "#对于0维数据(也就是一个值)\n",
    "#scalars\n",
    "t=tf.constant(2.55)\n",
    "print(t)\n",
    "print(t.shape)#shape为空括号，即0维\n",
    "print(t.numpy())\n",
    "\n",
    "t2=tf.constant([1.,2.])\n",
    "print(t2.numpy())\n",
    "print(t2.shape)#shape为2维"
   ]
  },
  {
   "cell_type": "code",
   "execution_count": 6,
   "metadata": {},
   "outputs": [
    {
     "name": "stdout",
     "output_type": "stream",
     "text": [
      "tf.Tensor(b'abcdefg', shape=(), dtype=string)\n",
      "tf.Tensor(7, shape=(), dtype=int32)\n",
      "tf.Tensor(7, shape=(), dtype=int32)\n",
      "tf.Tensor([ 97  98  99 100 101 102 103], shape=(7,), dtype=int32)\n",
      "b'abcdefg'\n"
     ]
    }
   ],
   "source": [
    "#strings\n",
    "t=tf.constant(\"abcdefg\")\n",
    "print(t)\n",
    "print(tf.strings.length(t)) #t的长度\n",
    "print(tf.strings.length(t,unit=\"UTF8_CHAR\"))#utf8编码时的长度\n",
    "print(tf.strings.unicode_decode(t,\"UTF8\"))#将字符串转换为utf8编码\n",
    "print(t.numpy())"
   ]
  },
  {
   "cell_type": "code",
   "execution_count": 7,
   "metadata": {},
   "outputs": [
    {
     "name": "stdout",
     "output_type": "stream",
     "text": [
      "tf.Tensor([b'abc' b'defgh' b'ij' b'\\xe6\\xb7\\xb1\\xe5\\xba\\xa6\\xe5\\xad\\xa6\\xe4\\xb9\\xa0'], shape=(4,), dtype=string)\n",
      "tf.Tensor([ 3  5  2 12], shape=(4,), dtype=int32)\n",
      "tf.Tensor([3 5 2 4], shape=(4,), dtype=int32)\n",
      "<tf.RaggedTensor [[97, 98, 99], [100, 101, 102, 103, 104], [105, 106], [28145, 24230, 23398, 20064]]>\n"
     ]
    }
   ],
   "source": [
    "#strings array 存储一个数组的字符串\n",
    "t=tf.constant([\"abc\",\"defgh\",\"ij\",\"深度学习\"])\n",
    "print(t)\n",
    "print(tf.strings.length(t))\n",
    "print(tf.strings.length(t,unit=\"UTF8_CHAR\"))\n",
    "print(tf.strings.unicode_decode(t,\"UTF8\"))#tf.RaggedTensor表示不规则的n维矩阵，即矩阵的每一行长度不同"
   ]
  },
  {
   "cell_type": "code",
   "execution_count": 8,
   "metadata": {},
   "outputs": [
    {
     "name": "stdout",
     "output_type": "stream",
     "text": [
      "<tf.RaggedTensor [[1, 2], [3, 4, 5], [], [8]]>\n",
      "tf.Tensor([1 2], shape=(2,), dtype=int32)\n",
      "tf.Tensor([3 4 5], shape=(3,), dtype=int32)\n",
      "<tf.RaggedTensor [[1, 2]]>\n",
      "<tf.RaggedTensor [[], [8]]>\n",
      "<tf.RaggedTensor [[1, 2], [3, 4, 5]]>\n",
      "<tf.RaggedTensor [[3, 4, 5]]>\n"
     ]
    }
   ],
   "source": [
    "#ragged tensor\n",
    "r=tf.ragged.constant([[1,2],[3,4,5],[],[8]])\n",
    "print(r)\n",
    "print(r[0])\n",
    "print(r[1])\n",
    "\n",
    "print(r[0:1])\n",
    "print(r[2:])#取第二个数组之后的所有(不包含第二个)\n",
    "print(r[:2])#取第二个数组之前的所有(包含第二个)\n",
    "print(r[1:2])#左闭右开区间，只取第二个数组"
   ]
  },
  {
   "cell_type": "code",
   "execution_count": 9,
   "metadata": {},
   "outputs": [
    {
     "name": "stdout",
     "output_type": "stream",
     "text": [
      "<tf.RaggedTensor [[51, 52], [], [71]]>\n",
      "<tf.RaggedTensor [[1, 2], [3, 4, 5], [], [8], [51, 52], [], [71]]>\n"
     ]
    }
   ],
   "source": [
    "#ops on ragged tensor\n",
    "r2=tf.ragged.constant([[51,52],[],[71]])\n",
    "print(r2)\n",
    "print(tf.concat([r,r2],axis=0))#在r后面拼接r2"
   ]
  },
  {
   "cell_type": "code",
   "execution_count": 10,
   "metadata": {},
   "outputs": [
    {
     "name": "stdout",
     "output_type": "stream",
     "text": [
      "<tf.RaggedTensor [[1, 2, 88, 22], [3, 4, 5, 11], [32], [8, 23, 34, 56]]>\n"
     ]
    }
   ],
   "source": [
    "r3=tf.ragged.constant([[88,22],[11],[32],[23,34,56]])\n",
    "print(tf.concat([r,r3],axis=1))#axis为1时，r矩阵中对应行追加r3中对应行数值，所以必须保证r、r3是同行数的"
   ]
  },
  {
   "cell_type": "code",
   "execution_count": 11,
   "metadata": {},
   "outputs": [
    {
     "name": "stdout",
     "output_type": "stream",
     "text": [
      "tf.Tensor(\n",
      "[[51 52]\n",
      " [ 0  0]\n",
      " [71  0]], shape=(3, 2), dtype=int32)\n"
     ]
    }
   ],
   "source": [
    "#将ragged tensor转换为普通的tensor\n",
    "print(r2.to_tensor())#其他位补零即可"
   ]
  },
  {
   "cell_type": "code",
   "execution_count": 12,
   "metadata": {},
   "outputs": [
    {
     "name": "stdout",
     "output_type": "stream",
     "text": [
      "SparseTensor(indices=tf.Tensor(\n",
      "[[0 1]\n",
      " [1 0]\n",
      " [2 3]], shape=(3, 2), dtype=int64), values=tf.Tensor([1. 2. 3.], shape=(3,), dtype=float32), dense_shape=tf.Tensor([3 4], shape=(2,), dtype=int64))\n",
      "tf.Tensor(\n",
      "[[0. 1. 0. 0.]\n",
      " [2. 0. 0. 0.]\n",
      " [0. 0. 0. 3.]], shape=(3, 4), dtype=float32)\n"
     ]
    }
   ],
   "source": [
    "#只用几个特性(参数)来描述一个稀疏矩阵的张量就叫做稀疏张量\n",
    "#sparse tensor稀疏张量,tf.SparseTensor就用了三个维度：indices，values，dense_shape来描述一个稀疏矩阵\n",
    "s=tf.SparseTensor(indices=[[0,1],[1,0],[2,3]],\n",
    "                  values =[1.,2.,3.],\n",
    "                  dense_shape=[3,4])\n",
    "print(s)\n",
    "print(tf.sparse.to_dense(s))#转换为一般的tensor"
   ]
  },
  {
   "cell_type": "code",
   "execution_count": 13,
   "metadata": {},
   "outputs": [
    {
     "name": "stdout",
     "output_type": "stream",
     "text": [
      "SparseTensor(indices=tf.Tensor(\n",
      "[[0 1]\n",
      " [1 0]\n",
      " [2 3]], shape=(3, 2), dtype=int64), values=tf.Tensor([0.2 0.4 0.6], shape=(3,), dtype=float32), dense_shape=tf.Tensor([3 4], shape=(2,), dtype=int64))\n",
      "tf.Tensor(\n",
      "[[0.  0.2 0.  0. ]\n",
      " [0.4 0.  0.  0. ]\n",
      " [0.  0.  0.  0.6]], shape=(3, 4), dtype=float32)\n",
      "unsupported operand type(s) for +: 'SparseTensor' and 'int'\n",
      "tf.Tensor(\n",
      "[[ 30.  40.]\n",
      " [ 20.  40.]\n",
      " [210. 240.]], shape=(3, 2), dtype=float32)\n"
     ]
    }
   ],
   "source": [
    "#ops on sparse tensor\n",
    "s2=s*0.2\n",
    "print(s2)\n",
    "print(tf.sparse.to_dense(s2))\n",
    "\n",
    "#sparse tensor不能直接使用加法运算\n",
    "try:\n",
    "    s3=s+1\n",
    "except TypeError as ex:\n",
    "    print(ex)\n",
    "\n",
    "s4=tf.constant([[10.,20.],\n",
    "                [30.,40.],\n",
    "                [50.,60.],\n",
    "                [70.,80.]])\n",
    "print(tf.sparse.sparse_dense_matmul(s,s4))#将 sparse tensor与 普通tensor矩阵 做乘法"
   ]
  },
  {
   "cell_type": "code",
   "execution_count": 14,
   "metadata": {},
   "outputs": [
    {
     "name": "stdout",
     "output_type": "stream",
     "text": [
      "SparseTensor(indices=tf.Tensor(\n",
      "[[0 2]\n",
      " [0 1]\n",
      " [2 3]], shape=(3, 2), dtype=int64), values=tf.Tensor([1. 2. 3.], shape=(3,), dtype=float32), dense_shape=tf.Tensor([3 4], shape=(2,), dtype=int64))\n",
      "tf.Tensor(\n",
      "[[0. 2. 1. 0.]\n",
      " [0. 0. 0. 0.]\n",
      " [0. 0. 0. 3.]], shape=(3, 4), dtype=float32)\n"
     ]
    }
   ],
   "source": [
    "#sparse tensor\n",
    "s5=tf.SparseTensor(indices=[[0,2],[0,1],[2,3]],# indices必须要顺序排列，不然直接调用to_dense会报错，可以使用reorder\n",
    "                  values=[1.,2.,3.],dense_shape=[3,4])\n",
    "print(s5)\n",
    "s6=tf.sparse.reorder(s5)\n",
    "print(tf.sparse.to_dense(s6))"
   ]
  },
  {
   "cell_type": "code",
   "execution_count": 15,
   "metadata": {},
   "outputs": [
    {
     "name": "stdout",
     "output_type": "stream",
     "text": [
      "<tf.Variable 'Variable:0' shape=(2, 3) dtype=float32, numpy=\n",
      "array([[1., 2., 3.],\n",
      "       [4., 5., 6.]], dtype=float32)>\n",
      "tf.Tensor(\n",
      "[[1. 2. 3.]\n",
      " [4. 5. 6.]], shape=(2, 3), dtype=float32)\n",
      "[[1. 2. 3.]\n",
      " [4. 5. 6.]]\n"
     ]
    }
   ],
   "source": [
    "#前面说的都是常量，使用的是tf.constant或tf.ragged.constant创建\n",
    "#接下来将变量Variables\n",
    "v=tf.Variable([[1.,2.,3.],\n",
    "               [4.,5.,6.]])\n",
    "print(v)#打印变量v的信息\n",
    "print(v.value())#打印tensor\n",
    "print(v.numpy())#打印矩阵的值"
   ]
  },
  {
   "cell_type": "code",
   "execution_count": 16,
   "metadata": {},
   "outputs": [
    {
     "name": "stdout",
     "output_type": "stream",
     "text": [
      "[[ 2.  4.  6.]\n",
      " [ 8. 10. 12.]]\n",
      "[[ 2. 42.  6.]\n",
      " [ 8. 10. 12.]]\n",
      "[[ 2. 42.  6.]\n",
      " [ 7.  8.  9.]]\n"
     ]
    }
   ],
   "source": [
    "#assign value\n",
    "v.assign(2*v)\n",
    "print(v.numpy())\n",
    "\n",
    "v[0,1].assign(42)#矩阵第0行第1列重新赋值为42\n",
    "print(v.numpy())\n",
    "\n",
    "v[1].assign([7.,8.,9.])#矩阵第一行重新赋值\n",
    "print(v.numpy())"
   ]
  },
  {
   "cell_type": "code",
   "execution_count": 17,
   "metadata": {},
   "outputs": [
    {
     "name": "stdout",
     "output_type": "stream",
     "text": [
      "'ResourceVariable' object does not support item assignment\n"
     ]
    }
   ],
   "source": [
    "#不能用等于号赋值\n",
    "try:\n",
    "    v[1]=[7.,8.,9.]\n",
    "except TypeError as ex:\n",
    "    print(ex)"
   ]
  },
  {
   "cell_type": "code",
   "execution_count": null,
   "metadata": {},
   "outputs": [],
   "source": []
  }
 ],
 "metadata": {
  "kernelspec": {
   "display_name": "Python 3",
   "language": "python",
   "name": "python3"
  },
  "language_info": {
   "codemirror_mode": {
    "name": "ipython",
    "version": 3
   },
   "file_extension": ".py",
   "mimetype": "text/x-python",
   "name": "python",
   "nbconvert_exporter": "python",
   "pygments_lexer": "ipython3",
   "version": "3.6.9"
  }
 },
 "nbformat": 4,
 "nbformat_minor": 2
}

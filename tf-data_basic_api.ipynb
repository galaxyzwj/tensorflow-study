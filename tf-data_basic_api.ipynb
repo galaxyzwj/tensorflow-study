{
 "cells": [
  {
   "cell_type": "code",
   "execution_count": 1,
   "metadata": {},
   "outputs": [
    {
     "name": "stdout",
     "output_type": "stream",
     "text": [
      "2.0.0\n",
      "sys.version_info(major=3, minor=6, micro=9, releaselevel='final', serial=0)\n",
      "matplotlib 3.1.2\n",
      "numpy 1.18.0\n",
      "sklearn 0.21.3\n",
      "pandas 0.25.3\n",
      "tensorflow 2.0.0\n",
      "tensorflow_core.keras 2.2.4-tf\n"
     ]
    }
   ],
   "source": [
    "import matplotlib as mpl #画图用的库\n",
    "import matplotlib.pyplot as plt\n",
    "#下面这一句是为了可以在notebook中画图\n",
    "%matplotlib inline\n",
    "import numpy as np\n",
    "import sklearn   #机器学习算法库\n",
    "import pandas as pd #处理数据的库   \n",
    "import os\n",
    "import sys\n",
    "import time\n",
    "import tensorflow as tf\n",
    " \n",
    "from tensorflow import keras   #使用tensorflow中的keras\n",
    "#import keras #单纯的使用keras\n",
    " \n",
    "print(tf.__version__)\n",
    "print(sys.version_info)\n",
    "for module in mpl, np, sklearn, pd, tf, keras:\n",
    "    print(module.__name__, module.__version__)"
   ]
  },
  {
   "cell_type": "code",
   "execution_count": 2,
   "metadata": {},
   "outputs": [
    {
     "name": "stdout",
     "output_type": "stream",
     "text": [
      "<TensorSliceDataset shapes: (), types: tf.int64>\n",
      "tf.Tensor(0, shape=(), dtype=int64)\n",
      "tf.Tensor(1, shape=(), dtype=int64)\n",
      "tf.Tensor(2, shape=(), dtype=int64)\n",
      "tf.Tensor(3, shape=(), dtype=int64)\n",
      "tf.Tensor(4, shape=(), dtype=int64)\n",
      "tf.Tensor(5, shape=(), dtype=int64)\n",
      "tf.Tensor(6, shape=(), dtype=int64)\n",
      "tf.Tensor(7, shape=(), dtype=int64)\n",
      "tf.Tensor(8, shape=(), dtype=int64)\n",
      "tf.Tensor(9, shape=(), dtype=int64)\n"
     ]
    }
   ],
   "source": [
    "#from_tensor_slices 说白了就是 用来初始化数据集的\n",
    "#从内存中构建生成数据集,感觉类似于C/C++中的数组指针的感觉\n",
    "#传入 numpy数组,来初始化dataset\n",
    "dataset = tf.data.Dataset.from_tensor_slices(np.arange(10))#传入numpy数组，数组大小为长度为10的一维向量\n",
    "print(dataset)\n",
    "for item in dataset:\n",
    "    print(item)"
   ]
  },
  {
   "cell_type": "code",
   "execution_count": 3,
   "metadata": {},
   "outputs": [
    {
     "name": "stdout",
     "output_type": "stream",
     "text": [
      "tf.Tensor([0 1 2 3 4 5 6], shape=(7,), dtype=int64)\n",
      "tf.Tensor([7 8 9 0 1 2 3], shape=(7,), dtype=int64)\n",
      "tf.Tensor([4 5 6 7 8 9 0], shape=(7,), dtype=int64)\n",
      "tf.Tensor([1 2 3 4 5 6 7], shape=(7,), dtype=int64)\n",
      "tf.Tensor([8 9], shape=(2,), dtype=int64)\n"
     ]
    }
   ],
   "source": [
    "#使用dataset实现以下的两种功能\n",
    "#1.repeat epoch :表示数据集读取遍历次数，遍历一次即epoch=1，遍历n次数据集即epoch=n\n",
    "#2.get batch :batch_size表示训练网络数据参数时取数据集中的 batch_size个 参数进入到模型中进行训练\n",
    "dataset = dataset.repeat(3).batch(7) #repeat(3)表示这个一维向量会被遍历三次 batch(7)表示batch_size为7，即每次取7个数据\n",
    "for item in dataset:\n",
    "    print(item)"
   ]
  },
  {
   "cell_type": "code",
   "execution_count": 4,
   "metadata": {},
   "outputs": [
    {
     "name": "stdout",
     "output_type": "stream",
     "text": [
      "0, 1, 2, 3, 7, 8, 9, 0, 4, 5, 6, 7, 1, 2, 3, 4, 4, 5, 6, 1, 2, 3, 8, 9, 0, 5, 6, 7, 8, 9, "
     ]
    }
   ],
   "source": [
    "#interleave: 中文意思是 交叉，主要应用于生成新的数据集，最终的目的是为了数据的均匀混合作用\n",
    "#其改变了数据集中数据排列方式，但是不会对数据做增减等修改，所以个人认为不需要太过于关注 cycle_length和block_length的取值\n",
    "#案例: 文件dataset --> 具体数据集\n",
    "dataset2 = dataset.interleave(\n",
    "    lambda v: tf.data.Dataset.from_tensor_slices(v), #map_fn\n",
    "    cycle_length = 4, #cycle_length 表示 每次从dataset中取出 cycle_length个元素，然后对这些元素应用map_fn，得到cycle_length个新的Dataset对象\n",
    "    block_length = 4, #block_length 表示 从上面生成的新的datasets对象中轮流从其中取元素，每次取block_length个\n",
    ")\n",
    "for item in dataset2:\n",
    "    print(item.numpy(),end=', ')\n",
    "    ##这里在取了四行之后(因为cycle_length=4)，就重头回去取第一行(先不取最后一行8, 9)"
   ]
  },
  {
   "cell_type": "code",
   "execution_count": 5,
   "metadata": {},
   "outputs": [
    {
     "name": "stdout",
     "output_type": "stream",
     "text": [
      "<TensorSliceDataset shapes: ((2,), ()), types: (tf.int64, tf.string)>\n",
      "tf.Tensor([1 2], shape=(2,), dtype=int64) tf.Tensor(b'cat', shape=(), dtype=string)\n",
      "[1 2] b'cat'\n",
      "tf.Tensor([3 4], shape=(2,), dtype=int64) tf.Tensor(b'dog', shape=(), dtype=string)\n",
      "[3 4] b'dog'\n",
      "tf.Tensor([5 6], shape=(2,), dtype=int64) tf.Tensor(b'fox', shape=(), dtype=string)\n",
      "[5 6] b'fox'\n"
     ]
    }
   ],
   "source": [
    "#传入 元组，来初始化dataset3\n",
    "x = np.array([[1, 2], [3, 4], [5, 6]])#x 和 y的维度必须相等\n",
    "y = np.array(['cat', 'dog', 'fox'])\n",
    "dataset3 = tf.data.Dataset.from_tensor_slices((x, y))\n",
    "print(dataset3)\n",
    "\n",
    "for item_x, item_y in dataset3:\n",
    "    print(item_x, item_y)\n",
    "    print(item_x.numpy(), item_y.numpy())"
   ]
  },
  {
   "cell_type": "code",
   "execution_count": 6,
   "metadata": {},
   "outputs": [
    {
     "name": "stdout",
     "output_type": "stream",
     "text": [
      "[1 2] b'cat'\n",
      "[3 4] b'dog'\n",
      "[5 6] b'fox'\n"
     ]
    }
   ],
   "source": [
    "#传入 字典,来初始化 dataset4\n",
    "dataset4 = tf.data.Dataset.from_tensor_slices({\"feature\" : x,\n",
    "                                               \"label\"   : y})\n",
    "for item in dataset4:\n",
    "    #print(item)\n",
    "    print(item[\"feature\"].numpy(), item[\"label\"].numpy())"
   ]
  },
  {
   "cell_type": "code",
   "execution_count": null,
   "metadata": {},
   "outputs": [],
   "source": []
  }
 ],
 "metadata": {
  "kernelspec": {
   "display_name": "Python 3",
   "language": "python",
   "name": "python3"
  },
  "language_info": {
   "codemirror_mode": {
    "name": "ipython",
    "version": 3
   },
   "file_extension": ".py",
   "mimetype": "text/x-python",
   "name": "python",
   "nbconvert_exporter": "python",
   "pygments_lexer": "ipython3",
   "version": "3.6.9"
  }
 },
 "nbformat": 4,
 "nbformat_minor": 2
}

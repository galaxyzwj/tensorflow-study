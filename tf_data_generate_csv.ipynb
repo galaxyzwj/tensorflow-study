{
 "cells": [
  {
   "cell_type": "code",
   "execution_count": 1,
   "metadata": {},
   "outputs": [
    {
     "name": "stdout",
     "output_type": "stream",
     "text": [
      "2.0.0\n",
      "sys.version_info(major=3, minor=6, micro=9, releaselevel='final', serial=0)\n",
      "matplotlib 3.1.2\n",
      "numpy 1.18.0\n",
      "sklearn 0.21.3\n",
      "pandas 0.25.3\n",
      "tensorflow 2.0.0\n",
      "tensorflow_core.keras 2.2.4-tf\n"
     ]
    }
   ],
   "source": [
    "import matplotlib as mpl #画图用的库\n",
    "import matplotlib.pyplot as plt\n",
    "#下面这一句是为了可以在notebook中画图\n",
    "%matplotlib inline\n",
    "import numpy as np\n",
    "import sklearn   #机器学习算法库\n",
    "import pandas as pd #处理数据的库   \n",
    "import os\n",
    "import sys\n",
    "import time\n",
    "import tensorflow as tf\n",
    "\n",
    "from tensorflow import keras   #使用tensorflow中的keras\n",
    "#import keras #单纯的使用keras\n",
    "\n",
    "print(tf.__version__)\n",
    "print(sys.version_info)\n",
    "for module in mpl, np, sklearn, pd, tf, keras:\n",
    "    print(module.__name__, module.__version__)"
   ]
  },
  {
   "cell_type": "code",
   "execution_count": 2,
   "metadata": {},
   "outputs": [
    {
     "name": "stdout",
     "output_type": "stream",
     "text": [
      "(20640, 8)\n",
      "(20640,)\n"
     ]
    }
   ],
   "source": [
    "#引用位于sklearn数据集中的房价预测数据集\n",
    "from sklearn.datasets import fetch_california_housing\n",
    "\n",
    "housing = fetch_california_housing()\n",
    "#print(housing.DESCR) #数据集的描述\n",
    "print(housing.data.shape) #相当于 x\n",
    "print(housing.target.shape) #相当于 y"
   ]
  },
  {
   "cell_type": "code",
   "execution_count": 3,
   "metadata": {},
   "outputs": [
    {
     "name": "stdout",
     "output_type": "stream",
     "text": [
      "(15480, 8) (15480,)\n",
      "(5160, 8) (5160,)\n",
      "(11610, 8) (11610,)\n",
      "(3870, 8) (3870,)\n"
     ]
    }
   ],
   "source": [
    "#用sklearn中专门用于划分训练集和测试集的方法\n",
    "from sklearn.model_selection import train_test_split\n",
    "\n",
    "#train_test_split默认将数据划分为3:1，我们可以通过修改test_size值来改变数据划分比例(默认0.25，即3:1)\n",
    "#将总数乘以test_size就表示test测试集、valid验证集数量\n",
    "#将数据集整体拆分为train_all和test数据集\n",
    "x_train_all,x_test, y_train_all,y_test = train_test_split(housing.data, housing.target, random_state=7)\n",
    "#将train_all数据集拆分为train训练集和valid验证集\n",
    "x_train,x_valid, y_train,y_valid = train_test_split(x_train_all, y_train_all, random_state=11)\n",
    "\n",
    "print(x_train_all.shape,y_train_all.shape)\n",
    "print(x_test.shape, y_test.shape)\n",
    "print(x_train.shape, y_train.shape)\n",
    "print(x_valid.shape, y_valid.shape)"
   ]
  },
  {
   "cell_type": "code",
   "execution_count": 4,
   "metadata": {},
   "outputs": [],
   "source": [
    "#训练数据归一化处理\n",
    "# x = (x - u)/std  u为均值，std为方差\n",
    "from sklearn.preprocessing import StandardScaler #使用sklearn中的StandardScaler实现训练数据归一化\n",
    "\n",
    "scaler = StandardScaler()#初始化一个scaler对象\n",
    "x_train_scaler = scaler.fit_transform(x_train)#x_train已经是二维数据了，无需astype转换\n",
    "x_valid_scaler = scaler.transform(x_valid)\n",
    "x_test_scaler  = scaler.transform(x_test)"
   ]
  },
  {
   "cell_type": "code",
   "execution_count": 5,
   "metadata": {},
   "outputs": [
    {
     "name": "stdout",
     "output_type": "stream",
     "text": [
      "['MedInc', 'HouseAge', 'AveRooms', 'AveBedrms', 'Population', 'AveOccup', 'Latitude', 'Longitude']\n"
     ]
    }
   ],
   "source": [
    "print(housing.feature_names)"
   ]
  },
  {
   "cell_type": "code",
   "execution_count": 6,
   "metadata": {},
   "outputs": [
    {
     "name": "stdout",
     "output_type": "stream",
     "text": [
      "['MedInc', 'HouseAge', 'AveRooms', 'AveBedrms', 'Population', 'AveOccup', 'Latitude', 'Longitude', 'HouseValue']\n"
     ]
    }
   ],
   "source": [
    "import shutil\n",
    "\n",
    "output_dir = \"generate_csv\"\n",
    "if os.path.exists(output_dir):\n",
    "    shutil.rmtree(output_dir) #存在该文件则先删除该文件夹，保证每次运行创建的文件夹都是新的\n",
    "os.mkdir(output_dir)\n",
    "\n",
    "def save_to_csv(output_dir, data, name_prefix, header=None, n_parts=10):\n",
    "    path_format = os.path.join(output_dir, \"{}_{:02d}.csv\")#在大括号里面填充数据生成文件名\n",
    "    filenames = []\n",
    "    \n",
    "    #enumerate() 函数用于将一个可遍历的数据对象(如列表、元组或字符串)组合为一个索引序列，同时列出数据和数据下标，一般用在 for 循环当中\n",
    "    # file_idx表示生成的n_partes个文件的索引，row_indices表示每一个文件内的行索引\n",
    "    for file_idx, row_indices in enumerate(np.array_split(np.arange(len(data)), n_parts)):\n",
    "        part_csv = path_format.format(name_prefix, file_idx)#path_format传入两个参数组成文件名\n",
    "        filenames.append(part_csv) #append生成最终的文件\n",
    "        with open(part_csv, \"wt\", encoding=\"utf-8\") as f: #打开这个文件并填充内容\n",
    "            if header is not None:\n",
    "                f.write(header + \"\\n\")\n",
    "            for row_index in row_indices: #这里遍历行索引,对每一个文件进行填充\n",
    "                f.write(\",\".join([repr(col) for col in data[row_index]]))#对每一行中的每一列进行填充\n",
    "                f.write('\\n')\n",
    "    return filenames\n",
    "\n",
    "#因为save_to_csv只有一个data参数，所以我们将(x, y)按行进行合并\n",
    "train_data = np.c_[x_train_scaler, y_train]#np.c_函数可以将数据按行进行合并merge\n",
    "valid_data = np.c_[x_valid_scaler, y_valid]\n",
    "test_data  = np.c_[x_test_scaler , y_test ]\n",
    "\n",
    "#生成表头header，即每一列的数据前面的名称    \n",
    "header_cols = housing.feature_names + [\"HouseValue\"]\n",
    "print(header_cols)\n",
    "header_str = \",\".join(header_cols)\n",
    "\n",
    "#训练集数据总数为 11610，n_parts表示平均分为n份\n",
    "train_filenames = save_to_csv(output_dir, train_data, \"train\", header_str, n_parts=20)\n",
    "\n",
    "valid_filenames = save_to_csv(output_dir, valid_data, \"valid\", header_str, n_parts=10)\n",
    "\n",
    "test_filenames  = save_to_csv(output_dir, test_data, \"test\", header_str, n_parts=10)\n"
   ]
  },
  {
   "cell_type": "code",
   "execution_count": 7,
   "metadata": {},
   "outputs": [
    {
     "name": "stdout",
     "output_type": "stream",
     "text": [
      "train_files:\n",
      "['generate_csv/train_00.csv',\n",
      " 'generate_csv/train_01.csv',\n",
      " 'generate_csv/train_02.csv',\n",
      " 'generate_csv/train_03.csv',\n",
      " 'generate_csv/train_04.csv',\n",
      " 'generate_csv/train_05.csv',\n",
      " 'generate_csv/train_06.csv',\n",
      " 'generate_csv/train_07.csv',\n",
      " 'generate_csv/train_08.csv',\n",
      " 'generate_csv/train_09.csv',\n",
      " 'generate_csv/train_10.csv',\n",
      " 'generate_csv/train_11.csv',\n",
      " 'generate_csv/train_12.csv',\n",
      " 'generate_csv/train_13.csv',\n",
      " 'generate_csv/train_14.csv',\n",
      " 'generate_csv/train_15.csv',\n",
      " 'generate_csv/train_16.csv',\n",
      " 'generate_csv/train_17.csv',\n",
      " 'generate_csv/train_18.csv',\n",
      " 'generate_csv/train_19.csv']\n",
      "valid_files:\n",
      "['generate_csv/valid_00.csv',\n",
      " 'generate_csv/valid_01.csv',\n",
      " 'generate_csv/valid_02.csv',\n",
      " 'generate_csv/valid_03.csv',\n",
      " 'generate_csv/valid_04.csv',\n",
      " 'generate_csv/valid_05.csv',\n",
      " 'generate_csv/valid_06.csv',\n",
      " 'generate_csv/valid_07.csv',\n",
      " 'generate_csv/valid_08.csv',\n",
      " 'generate_csv/valid_09.csv']\n",
      "test_files:\n",
      "['generate_csv/test_00.csv',\n",
      " 'generate_csv/test_01.csv',\n",
      " 'generate_csv/test_02.csv',\n",
      " 'generate_csv/test_03.csv',\n",
      " 'generate_csv/test_04.csv',\n",
      " 'generate_csv/test_05.csv',\n",
      " 'generate_csv/test_06.csv',\n",
      " 'generate_csv/test_07.csv',\n",
      " 'generate_csv/test_08.csv',\n",
      " 'generate_csv/test_09.csv']\n"
     ]
    }
   ],
   "source": [
    "import pprint\n",
    "\n",
    "print(\"train_files:\")\n",
    "pprint.pprint(train_filenames)\n",
    "\n",
    "print(\"valid_files:\")\n",
    "pprint.pprint(valid_filenames)\n",
    "\n",
    "print(\"test_files:\")\n",
    "pprint.pprint(test_filenames)\n"
   ]
  },
  {
   "cell_type": "code",
   "execution_count": 8,
   "metadata": {},
   "outputs": [
    {
     "name": "stdout",
     "output_type": "stream",
     "text": [
      "tf.Tensor(b'generate_csv/train_18.csv', shape=(), dtype=string)\n",
      "tf.Tensor(b'generate_csv/train_02.csv', shape=(), dtype=string)\n",
      "tf.Tensor(b'generate_csv/train_09.csv', shape=(), dtype=string)\n",
      "tf.Tensor(b'generate_csv/train_04.csv', shape=(), dtype=string)\n",
      "tf.Tensor(b'generate_csv/train_14.csv', shape=(), dtype=string)\n",
      "tf.Tensor(b'generate_csv/train_05.csv', shape=(), dtype=string)\n",
      "tf.Tensor(b'generate_csv/train_06.csv', shape=(), dtype=string)\n",
      "tf.Tensor(b'generate_csv/train_16.csv', shape=(), dtype=string)\n",
      "tf.Tensor(b'generate_csv/train_19.csv', shape=(), dtype=string)\n",
      "tf.Tensor(b'generate_csv/train_07.csv', shape=(), dtype=string)\n",
      "tf.Tensor(b'generate_csv/train_12.csv', shape=(), dtype=string)\n",
      "tf.Tensor(b'generate_csv/train_15.csv', shape=(), dtype=string)\n",
      "tf.Tensor(b'generate_csv/train_00.csv', shape=(), dtype=string)\n",
      "tf.Tensor(b'generate_csv/train_10.csv', shape=(), dtype=string)\n",
      "tf.Tensor(b'generate_csv/train_08.csv', shape=(), dtype=string)\n",
      "tf.Tensor(b'generate_csv/train_03.csv', shape=(), dtype=string)\n",
      "tf.Tensor(b'generate_csv/train_11.csv', shape=(), dtype=string)\n",
      "tf.Tensor(b'generate_csv/train_17.csv', shape=(), dtype=string)\n",
      "tf.Tensor(b'generate_csv/train_13.csv', shape=(), dtype=string)\n",
      "tf.Tensor(b'generate_csv/train_01.csv', shape=(), dtype=string)\n",
      "b'0.42408210084996534,0.9129633171802288,-0.04437481876046234,-0.15297213746739335,-0.24727627804141977,-0.10539166599677323,0.8612674255663844,-1.3357789003702432,3.955'\n",
      "b'0.8115083791797953,-0.04823952235146133,0.5187339067174729,-0.029386394873127775,-0.034064024638222286,-0.05081594842905086,-0.7157356834231196,0.9162751241885168,2.147'\n",
      "b'-0.09719300311107498,-1.249743071766074,0.36232962250170797,0.026906080250728295,1.033811814747154,0.045881586971778555,1.3418334617377423,-1.6353869745909178,1.832'\n",
      "b'0.6303435674178064,1.874166156711919,-0.06713214279531016,-0.12543366804152128,-0.19737553788322462,-0.022722631725889016,-0.692407235065288,0.7265233438487496,2.419'\n",
      "b'0.09734603446040174,0.7527628439249472,-0.20218964416999152,-0.1954700015215477,-0.4060513603629498,0.006785531677655949,-0.813715166526018,0.656614793197258,1.119'\n",
      "b'0.4369234889778008,-1.9706452014148417,-0.1664210569911193,0.05486205164394496,-0.8379195842775115,-0.1323988058685803,-0.9956770637171147,0.941242463706905,1.73'\n",
      "b'-0.6906143291679195,-0.1283397589791022,7.0201810347470595,5.624287386169439,-0.2663292879200034,-0.03662080416157129,-0.6457503383496215,1.2058962626018372,1.352'\n",
      "b'1.0534699704183814,-0.1283397589791022,0.13509497508586193,-0.2852867771449356,-0.37066719915986596,-0.017744041396267323,0.7586222527919203,-1.1510205879341566,2.674'\n",
      "b'1.6312258686346301,0.3522616607867429,0.04080576110152256,-0.1408895163348976,-0.4632103899987006,-0.06751623819156843,-0.8277122355407183,0.5966931783531273,3.376'\n",
      "b'-1.4803330571456954,-0.6890414153725881,-0.35624704887282904,-0.1725588908792445,-0.8215884329530113,-0.1382309124854157,1.9157132913404298,-1.0211904224385344,0.928'\n",
      "b'-0.49303811681102094,-1.5701440182766375,-0.6933897788607161,0.16277645579446545,0.3279431630548662,-0.08806528786307917,-0.86503775291325,0.6366409215825501,2.033'\n",
      "b'-0.9868720801669367,0.832863080552588,-0.18684708416901633,-0.14888949288707784,-0.4532302419670616,-0.11504995754593579,1.6730974284189664,-0.7465496877362412,1.138'\n",
      "b'-0.8698076415077927,-0.44874070548966555,0.9621267572121975,3.9409717092762584,-0.9740125119816802,-0.09383082108319943,-0.6690787867074531,1.6752822455475638,0.425'\n",
      "b'0.04049225382803661,-0.6890414153725881,-0.44379851741607473,0.022374585146687852,-0.22187226486997497,-0.1482850314959248,-0.8883662012710817,0.6366409215825501,2.852'\n",
      "b'0.21174628471128154,1.1532640270631513,-0.2507761334605016,-0.2564987121705146,-0.6473894854916754,0.017590216427099285,0.7959477701644521,-1.1510205879341566,1.935'\n"
     ]
    }
   ],
   "source": [
    "###读取 csv 文件并形成一个datasets\n",
    "#1.filename -> dataset\n",
    "#2.read file -> dataset ->datasets ->merge\n",
    "#3.parse csv\n",
    "\n",
    "#首先生成一个文件名的数据集\n",
    "filename_dataset = tf.data.Dataset.list_files(train_filenames)\n",
    "\n",
    "for item in filename_dataset:\n",
    "    print(item)\n",
    "\n",
    "    \n",
    "#读取每一个文件形成最终的数据集\n",
    "n_readers = 5\n",
    "dataset = filename_dataset.interleave(\n",
    "    lambda filename: tf.data.TextLineDataset(filename).skip(1),#skip(1)表示跳过第一行\n",
    "    cycle_length = n_readers#每个文件读取前面5行数据(skip(1)表示已经除去了header)\n",
    ")\n",
    "\n",
    "for line in dataset.take(15):#take(15)表示只读取前面15个\n",
    "    print(line.numpy())"
   ]
  },
  {
   "cell_type": "code",
   "execution_count": 9,
   "metadata": {},
   "outputs": [
    {
     "name": "stdout",
     "output_type": "stream",
     "text": [
      "[<tf.Tensor: id=96, shape=(), dtype=int32, numpy=1>, <tf.Tensor: id=97, shape=(), dtype=int32, numpy=2>, <tf.Tensor: id=98, shape=(), dtype=int32, numpy=3>, <tf.Tensor: id=99, shape=(), dtype=int32, numpy=4>, <tf.Tensor: id=100, shape=(), dtype=int32, numpy=5>]\n",
      "[<tf.Tensor: id=107, shape=(), dtype=int32, numpy=1>, <tf.Tensor: id=108, shape=(), dtype=int32, numpy=2>, <tf.Tensor: id=109, shape=(), dtype=float32, numpy=3.0>, <tf.Tensor: id=110, shape=(), dtype=string, numpy=b'4'>, <tf.Tensor: id=111, shape=(), dtype=float32, numpy=5.0>]\n",
      "Field 4 is required but missing in record 0! [Op:DecodeCSV]\n",
      "Expect 5 fields but have 7 in record 0 [Op:DecodeCSV]\n"
     ]
    }
   ],
   "source": [
    "#解析csv中的字符串str，record_defaults表示 字符串中每个元素对应的数据类型\n",
    "# tf.io.devode_csv(str, record_defaults)\n",
    "\n",
    "sample_str      = '1,2,3,4,5'#解析samole_str这个字符串\n",
    "record_defaults = [tf.constant(0, dtype=tf.int32)] * 5\n",
    "parsed_fields = tf.io.decode_csv(sample_str, record_defaults)\n",
    "print(parsed_fields)\n",
    "\n",
    "sample_str2      = '1,2,3,4,5'#解析samole_str这个字符串\n",
    "record_defaults2 = [tf.constant(0, dtype=tf.int32),\n",
    "                    0,\n",
    "                    np.nan,\n",
    "                    \"hello\",\n",
    "                    tf.constant([])]\n",
    "parsed_fields2 = tf.io.decode_csv(sample_str2, record_defaults2)\n",
    "print(parsed_fields2)\n",
    "\n",
    "#传入 空的字符串\n",
    "try:\n",
    "    parsed_fields2 = tf.io.decode_csv(',,,,', record_defaults2)\n",
    "except tf.errors.InvalidArgumentError as ex:\n",
    "    print(ex)\n",
    "\n",
    "#传入 字符串files数量大于record_defaults    \n",
    "try:\n",
    "    parsed_fields2 = tf.io.decode_csv('1,2,3,4,5,6,7', record_defaults2)\n",
    "except tf.errors.InvalidArgumentError as ex:\n",
    "    print(ex)    "
   ]
  },
  {
   "cell_type": "code",
   "execution_count": 10,
   "metadata": {},
   "outputs": [
    {
     "data": {
      "text/plain": [
       "(<tf.Tensor: id=131, shape=(8,), dtype=float32, numpy=\n",
       " array([-0.9974223 ,  1.2333642 , -0.7577193 , -0.01110925, -0.23003784,\n",
       "         0.05487422, -0.7577269 ,  0.70654947], dtype=float32)>,\n",
       " <tf.Tensor: id=132, shape=(1,), dtype=float32, numpy=array([1.739], dtype=float32)>)"
      ]
     },
     "execution_count": 10,
     "metadata": {},
     "output_type": "execute_result"
    }
   ],
   "source": [
    "def parse_csv_line(line, n_fields=9):\n",
    "    defs = [tf.constant(np.nan)] * n_fields\n",
    "    parse_fields = tf.io.decode_csv(line, record_defaults=defs)\n",
    "    x = tf.stack(parse_fields[:-1])#前8个数据为x，需要区分出来\n",
    "    y = tf.stack(parse_fields[-1:])#倒数第一个数据\n",
    "    return x, y\n",
    "parse_csv_line('-0.9974222662636643,1.2333642636907922,-0.7577192870888144,-0.011109251557751528,-0.23003784053222506,0.05487422342718872,-0.757726890467217,0.7065494722340417,1.739',n_fields=9)"
   ]
  },
  {
   "cell_type": "code",
   "execution_count": 11,
   "metadata": {},
   "outputs": [
    {
     "name": "stdout",
     "output_type": "stream",
     "text": [
      "x:\n",
      "<tf.Tensor: id=216, shape=(3, 8), dtype=float32, numpy=\n",
      "array([[ 0.15782312,  0.4323619 ,  0.3379948 , -0.01588031, -0.37338907,\n",
      "        -0.05305246,  0.80061346, -1.2359096 ],\n",
      "       [-0.66722274, -0.04823952,  0.34529406,  0.53826684,  1.8521839 ,\n",
      "        -0.06112538, -0.8417093 ,  1.5204847 ],\n",
      "       [ 2.5150437 ,  1.0731637 ,  0.5574401 , -0.17273512, -0.6129126 ,\n",
      "        -0.01909157, -0.5710993 , -0.02749031]], dtype=float32)>\n",
      "y:\n",
      "<tf.Tensor: id=217, shape=(3, 1), dtype=float32, numpy=\n",
      "array([[3.169  ],\n",
      "       [1.59   ],\n",
      "       [5.00001]], dtype=float32)>\n",
      "x:\n",
      "<tf.Tensor: id=218, shape=(3, 8), dtype=float32, numpy=\n",
      "array([[-1.0775077 , -0.4487407 , -0.5680568 , -0.14269263, -0.09666677,\n",
      "         0.12326469, -0.31448638, -0.4818959 ],\n",
      "       [ 0.48530516, -0.8492419 , -0.06530126, -0.02337966,  1.4974351 ,\n",
      "        -0.07790658, -0.90236324,  0.78145146],\n",
      "       [ 2.2878418 , -1.890545  ,  0.66071063, -0.14964779, -0.06672633,\n",
      "         0.44788057, -0.5337738 ,  0.56673235]], dtype=float32)>\n",
      "y:\n",
      "<tf.Tensor: id=219, shape=(3, 1), dtype=float32, numpy=\n",
      "array([[0.978],\n",
      "       [2.956],\n",
      "       [3.59 ]], dtype=float32)>\n"
     ]
    }
   ],
   "source": [
    "###读取 csv 文件并形成一个datasets\n",
    "#1.filename -> dataset\n",
    "#2.read file -> dataset ->datasets ->merge\n",
    "#3.parse csv\n",
    "\n",
    "def csv_reader_dataset(filenames, n_readers=5, \n",
    "                       batch_size=32, n_parse_threads=5, \n",
    "                       shuffle_buffer_size=10000):\n",
    "    \n",
    "    dataset = tf.data.Dataset.list_files(filenames)\n",
    "    dataset = dataset.repeat()#repeat()表示 数据集遍历的次数，无参数表示遍历无数次\n",
    "    dataset = dataset.interleave(\n",
    "        lambda filename: tf.data.TextLineDataset(filename).skip(1),\n",
    "        cycle_length = n_readers\n",
    "    )\n",
    "    dataset.shuffle(shuffle_buffer_size)#将数据打乱，数值越大，混乱程度越大\n",
    "    dataset = dataset.map(parse_csv_line, num_parallel_calls=n_parse_threads)\n",
    "    dataset = dataset.batch(batch_size)#一次性取出 batch_size 个数据\n",
    "    return dataset\n",
    "    \n",
    "train_set = csv_reader_dataset(train_filenames, batch_size=3)\n",
    "for x_batch, y_batch in train_set.take(2):\n",
    "    print(\"x:\")\n",
    "    pprint.pprint(x_batch)\n",
    "    print(\"y:\")\n",
    "    pprint.pprint(y_batch)"
   ]
  },
  {
   "cell_type": "code",
   "execution_count": 12,
   "metadata": {},
   "outputs": [],
   "source": [
    "batch_size = 32\n",
    "train_set = csv_reader_dataset(train_filenames, batch_size = batch_size)\n",
    "valid_set = csv_reader_dataset(valid_filenames, batch_size = batch_size)\n",
    "test_set = csv_reader_dataset(test_filenames,   batch_size = batch_size)"
   ]
  },
  {
   "cell_type": "code",
   "execution_count": 13,
   "metadata": {},
   "outputs": [
    {
     "name": "stdout",
     "output_type": "stream",
     "text": [
      "Train for 348 steps, validate for 120 steps\n",
      "Epoch 1/100\n",
      "348/348 [==============================] - 2s 5ms/step - loss: 1.4231 - val_loss: 0.7870\n",
      "Epoch 2/100\n",
      "348/348 [==============================] - 1s 2ms/step - loss: 0.6068 - val_loss: 0.5677\n",
      "Epoch 3/100\n",
      "348/348 [==============================] - 1s 2ms/step - loss: 0.4762 - val_loss: 0.4680\n",
      "Epoch 4/100\n",
      "348/348 [==============================] - 1s 2ms/step - loss: 0.4172 - val_loss: 0.4236\n",
      "Epoch 5/100\n",
      "348/348 [==============================] - 1s 2ms/step - loss: 0.3986 - val_loss: 0.4127\n",
      "Epoch 6/100\n",
      "348/348 [==============================] - 1s 2ms/step - loss: 0.3904 - val_loss: 0.3968\n",
      "Epoch 7/100\n",
      "348/348 [==============================] - 1s 2ms/step - loss: 0.3813 - val_loss: 0.3894\n",
      "Epoch 8/100\n",
      "348/348 [==============================] - 1s 2ms/step - loss: 0.3831 - val_loss: 0.3837\n",
      "Epoch 9/100\n",
      "348/348 [==============================] - 1s 2ms/step - loss: 0.3738 - val_loss: 0.3859\n",
      "Epoch 10/100\n",
      "348/348 [==============================] - 1s 2ms/step - loss: 0.3745 - val_loss: 0.3823\n",
      "Epoch 11/100\n",
      "348/348 [==============================] - 1s 2ms/step - loss: 0.3650 - val_loss: 0.3722\n",
      "Epoch 12/100\n",
      "348/348 [==============================] - 1s 2ms/step - loss: 0.3587 - val_loss: 0.3825\n",
      "Epoch 13/100\n",
      "348/348 [==============================] - 1s 2ms/step - loss: 0.3631 - val_loss: 0.3657\n",
      "Epoch 14/100\n",
      "348/348 [==============================] - 1s 2ms/step - loss: 0.3664 - val_loss: 0.3622\n",
      "Epoch 15/100\n",
      "348/348 [==============================] - 1s 2ms/step - loss: 0.3544 - val_loss: 0.3658\n",
      "Epoch 16/100\n",
      "348/348 [==============================] - 1s 2ms/step - loss: 0.3483 - val_loss: 0.3623\n",
      "Epoch 17/100\n",
      "348/348 [==============================] - 1s 2ms/step - loss: 0.3444 - val_loss: 0.3626\n",
      "Epoch 18/100\n",
      "348/348 [==============================] - 1s 2ms/step - loss: 0.3471 - val_loss: 0.3583\n",
      "Epoch 19/100\n",
      "348/348 [==============================] - 1s 2ms/step - loss: 0.3447 - val_loss: 0.3540\n",
      "Epoch 20/100\n",
      "348/348 [==============================] - 1s 2ms/step - loss: 0.3478 - val_loss: 0.3590\n",
      "Epoch 21/100\n",
      "348/348 [==============================] - 1s 2ms/step - loss: 0.3500 - val_loss: 0.3485\n",
      "Epoch 22/100\n",
      "348/348 [==============================] - 1s 2ms/step - loss: 0.3419 - val_loss: 0.3692\n",
      "Epoch 23/100\n",
      "348/348 [==============================] - 1s 2ms/step - loss: 0.3393 - val_loss: 0.3532\n",
      "Epoch 24/100\n",
      "348/348 [==============================] - 1s 2ms/step - loss: 0.3389 - val_loss: 0.4014\n",
      "Epoch 25/100\n",
      "348/348 [==============================] - 1s 2ms/step - loss: 0.3380 - val_loss: 0.3446\n",
      "Epoch 26/100\n",
      "348/348 [==============================] - 1s 2ms/step - loss: 0.3310 - val_loss: 0.3430\n",
      "Epoch 27/100\n",
      "348/348 [==============================] - 1s 2ms/step - loss: 0.3334 - val_loss: 0.3459\n",
      "Epoch 28/100\n",
      "348/348 [==============================] - 1s 2ms/step - loss: 0.3402 - val_loss: 0.3420\n",
      "Epoch 29/100\n",
      "348/348 [==============================] - 1s 2ms/step - loss: 0.3333 - val_loss: 0.3397\n",
      "Epoch 30/100\n",
      "348/348 [==============================] - 1s 2ms/step - loss: 0.3279 - val_loss: 0.3614\n",
      "Epoch 31/100\n",
      "348/348 [==============================] - 1s 2ms/step - loss: 0.3409 - val_loss: 0.3424\n",
      "Epoch 32/100\n",
      "348/348 [==============================] - 1s 2ms/step - loss: 0.3206 - val_loss: 0.3397\n",
      "Epoch 33/100\n",
      "348/348 [==============================] - 1s 2ms/step - loss: 0.3318 - val_loss: 0.3357\n",
      "Epoch 34/100\n",
      "348/348 [==============================] - 1s 2ms/step - loss: 0.3296 - val_loss: 0.3360\n",
      "Epoch 35/100\n",
      "348/348 [==============================] - 1s 2ms/step - loss: 0.3262 - val_loss: 0.3376\n",
      "Epoch 36/100\n",
      "348/348 [==============================] - 1s 2ms/step - loss: 0.3271 - val_loss: 0.3364\n",
      "Epoch 37/100\n",
      "348/348 [==============================] - 1s 2ms/step - loss: 0.3250 - val_loss: 0.3335\n",
      "Epoch 38/100\n",
      "348/348 [==============================] - 1s 2ms/step - loss: 0.3369 - val_loss: 0.3337\n",
      "Epoch 39/100\n",
      "348/348 [==============================] - 1s 2ms/step - loss: 0.3069 - val_loss: 0.3322\n",
      "Epoch 40/100\n",
      "348/348 [==============================] - 1s 2ms/step - loss: 0.3309 - val_loss: 0.3350\n",
      "Epoch 41/100\n",
      "348/348 [==============================] - 1s 2ms/step - loss: 0.3249 - val_loss: 0.3426\n",
      "Epoch 42/100\n",
      "348/348 [==============================] - 1s 2ms/step - loss: 0.3193 - val_loss: 0.3328\n",
      "Epoch 43/100\n",
      "348/348 [==============================] - 1s 2ms/step - loss: 0.3259 - val_loss: 0.3319\n",
      "Epoch 44/100\n",
      "348/348 [==============================] - 1s 2ms/step - loss: 0.3185 - val_loss: 0.3333\n"
     ]
    }
   ],
   "source": [
    "model = keras.models.Sequential([\n",
    "    keras.layers.Dense(30, activation=\"relu\",input_shape=[8]),\n",
    "    keras.layers.Dense(1),\n",
    "])\n",
    "model.compile(loss=\"mean_squared_error\", optimizer=\"adam\")\n",
    "\n",
    "\n",
    "callbacks = [\n",
    "    keras.callbacks.EarlyStopping(patience=5,min_delta=1e-3)\n",
    "]\n",
    "\n",
    "history=model.fit(train_set,\n",
    "                  validation_data = valid_set,\n",
    "                  steps_per_epoch = 11160 // batch_size,\n",
    "                  validation_steps = 3870 // batch_size,\n",
    "                  epochs = 100,\n",
    "                  callbacks=callbacks)\n"
   ]
  },
  {
   "cell_type": "code",
   "execution_count": 14,
   "metadata": {},
   "outputs": [
    {
     "name": "stdout",
     "output_type": "stream",
     "text": [
      "161/161 [==============================] - 0s 1ms/step - loss: 0.3512\n"
     ]
    },
    {
     "data": {
      "text/plain": [
       "0.35118211963161916"
      ]
     },
     "execution_count": 14,
     "metadata": {},
     "output_type": "execute_result"
    }
   ],
   "source": [
    "model.evaluate(test_set, steps=5160 // batch_size)"
   ]
  },
  {
   "cell_type": "code",
   "execution_count": null,
   "metadata": {},
   "outputs": [],
   "source": []
  }
 ],
 "metadata": {
  "kernelspec": {
   "display_name": "Python 3",
   "language": "python",
   "name": "python3"
  },
  "language_info": {
   "codemirror_mode": {
    "name": "ipython",
    "version": 3
   },
   "file_extension": ".py",
   "mimetype": "text/x-python",
   "name": "python",
   "nbconvert_exporter": "python",
   "pygments_lexer": "ipython3",
   "version": "3.6.9"
  }
 },
 "nbformat": 4,
 "nbformat_minor": 2
}

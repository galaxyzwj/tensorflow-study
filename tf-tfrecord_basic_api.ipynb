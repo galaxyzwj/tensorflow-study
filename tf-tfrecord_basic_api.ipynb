{
 "cells": [
  {
   "cell_type": "code",
   "execution_count": 1,
   "metadata": {},
   "outputs": [
    {
     "name": "stdout",
     "output_type": "stream",
     "text": [
      "2.0.0\n",
      "sys.version_info(major=3, minor=6, micro=9, releaselevel='final', serial=0)\n",
      "matplotlib 3.1.2\n",
      "numpy 1.18.0\n",
      "sklearn 0.21.3\n",
      "pandas 0.25.3\n",
      "tensorflow 2.0.0\n",
      "tensorflow_core.keras 2.2.4-tf\n"
     ]
    }
   ],
   "source": [
    "import matplotlib as mpl #画图用的库\n",
    "import matplotlib.pyplot as plt\n",
    "#下面这一句是为了可以在notebook中画图\n",
    "%matplotlib inline\n",
    "import numpy as np\n",
    "import sklearn   #机器学习算法库\n",
    "import pandas as pd #处理数据的库   \n",
    "import os\n",
    "import sys\n",
    "import time\n",
    "import tensorflow as tf\n",
    " \n",
    "from tensorflow import keras   #使用tensorflow中的keras\n",
    "#import keras #单纯的使用keras\n",
    " \n",
    "print(tf.__version__)\n",
    "print(sys.version_info)\n",
    "for module in mpl, np, sklearn, pd, tf, keras:\n",
    "    print(module.__name__, module.__version__)"
   ]
  },
  {
   "cell_type": "code",
   "execution_count": null,
   "metadata": {},
   "outputs": [],
   "source": []
  },
  {
   "cell_type": "code",
   "execution_count": 2,
   "metadata": {},
   "outputs": [
    {
     "name": "stdout",
     "output_type": "stream",
     "text": [
      "value: \"machine learning\"\n",
      "value: \"cc150\"\n",
      "\n",
      "value: 15.5\n",
      "value: 9.5\n",
      "value: 7.0\n",
      "value: 8.0\n",
      "\n",
      "value: 27\n",
      "\n",
      "feature {\n",
      "  key: \"age\"\n",
      "  value {\n",
      "    int64_list {\n",
      "      value: 27\n",
      "    }\n",
      "  }\n",
      "}\n",
      "feature {\n",
      "  key: \"favorite_books\"\n",
      "  value {\n",
      "    bytes_list {\n",
      "      value: \"machine learning\"\n",
      "      value: \"cc150\"\n",
      "    }\n",
      "  }\n",
      "}\n",
      "feature {\n",
      "  key: \"hours\"\n",
      "  value {\n",
      "    float_list {\n",
      "      value: 15.5\n",
      "      value: 9.5\n",
      "      value: 7.0\n",
      "      value: 8.0\n",
      "    }\n",
      "  }\n",
      "}\n",
      "\n"
     ]
    }
   ],
   "source": [
    "#tfrecord 为tensorflow自己创建的一种文件格式\n",
    "#TFRecord内部使用了“Protocol Buffer”二进制数据编码方案，它只占用一个内存块，只需要一次性加载一个二进制文件的方式即可，简单，快速，\n",
    "#尤其对大型训练数据很友好。而且当我们的训练数据量比较大的时候，可以将数据分成多个TFRecord文件，来提高处理效率\n",
    "\n",
    "#tfrecord里面存储的都是 tf.train.Example, Example可以是一个样本也可以是一组样本\n",
    "#每个Example里面都是一个个的feature(tf.train.Features),Features里面可以看做是dicts {”key\":tf.train.Feature}\n",
    "#对于每一个不同的Feature都有不同的格式，包括tf.train.ByteList/FloatList/Int64List\n",
    "\n",
    "#得到一个UTF-8的字符串列表\n",
    "favorite_books = [name.encode(\"UTF-8\") for name in [\"machine learning\", \"cc150\"]]\n",
    "\n",
    "favorite_books_bytelist = tf.train.BytesList(value = favorite_books)\n",
    "print(favorite_books_bytelist)\n",
    "\n",
    "hours_floatList = tf.train.FloatList(value = [15.5, 9.5, 7.0, 8.0])\n",
    "print(hours_floatList)\n",
    "\n",
    "age_int64list = tf.train.Int64List(value=[27])\n",
    "print(age_int64list)\n",
    "\n",
    "#定义的features有三个特征，分别为 \"favorite_books\" \"hours\" \"age\"\n",
    "features = tf.train.Features(\n",
    "    feature = {\n",
    "        \"favorite_books\" : tf.train.Feature(bytes_list = favorite_books_bytelist),\n",
    "        \"hours\"          : tf.train.Feature(float_list = hours_floatList),\n",
    "        \"age\"            : tf.train.Feature(int64_list = age_int64list)\n",
    "    }\n",
    ")\n",
    "\n",
    "print(features)"
   ]
  },
  {
   "cell_type": "code",
   "execution_count": 3,
   "metadata": {},
   "outputs": [
    {
     "name": "stdout",
     "output_type": "stream",
     "text": [
      "features {\n",
      "  feature {\n",
      "    key: \"age\"\n",
      "    value {\n",
      "      int64_list {\n",
      "        value: 27\n",
      "      }\n",
      "    }\n",
      "  }\n",
      "  feature {\n",
      "    key: \"favorite_books\"\n",
      "    value {\n",
      "      bytes_list {\n",
      "        value: \"machine learning\"\n",
      "        value: \"cc150\"\n",
      "      }\n",
      "    }\n",
      "  }\n",
      "  feature {\n",
      "    key: \"hours\"\n",
      "    value {\n",
      "      float_list {\n",
      "        value: 15.5\n",
      "        value: 9.5\n",
      "        value: 7.0\n",
      "        value: 8.0\n",
      "      }\n",
      "    }\n",
      "  }\n",
      "}\n",
      "\n",
      "b'\\n\\\\\\n\\x1d\\n\\x05hours\\x12\\x14\\x12\\x12\\n\\x10\\x00\\x00xA\\x00\\x00\\x18A\\x00\\x00\\xe0@\\x00\\x00\\x00A\\n-\\n\\x0efavorite_books\\x12\\x1b\\n\\x19\\n\\x10machine learning\\n\\x05cc150\\n\\x0c\\n\\x03age\\x12\\x05\\x1a\\x03\\n\\x01\\x1b'\n"
     ]
    }
   ],
   "source": [
    "example = tf.train.Example(features=features)\n",
    "print(example)\n",
    "\n",
    "#把example进行序列化压缩，以减小tfrecord文件的大小\n",
    "serialized_example = example.SerializeToString()\n",
    "print(serialized_example)"
   ]
  },
  {
   "cell_type": "code",
   "execution_count": 4,
   "metadata": {},
   "outputs": [
    {
     "name": "stdout",
     "output_type": "stream",
     "text": [
      "tf.Tensor(b'\\n\\\\\\n\\x1d\\n\\x05hours\\x12\\x14\\x12\\x12\\n\\x10\\x00\\x00xA\\x00\\x00\\x18A\\x00\\x00\\xe0@\\x00\\x00\\x00A\\n-\\n\\x0efavorite_books\\x12\\x1b\\n\\x19\\n\\x10machine learning\\n\\x05cc150\\n\\x0c\\n\\x03age\\x12\\x05\\x1a\\x03\\n\\x01\\x1b', shape=(), dtype=string)\n",
      "tf.Tensor(b'\\n\\\\\\n\\x1d\\n\\x05hours\\x12\\x14\\x12\\x12\\n\\x10\\x00\\x00xA\\x00\\x00\\x18A\\x00\\x00\\xe0@\\x00\\x00\\x00A\\n-\\n\\x0efavorite_books\\x12\\x1b\\n\\x19\\n\\x10machine learning\\n\\x05cc150\\n\\x0c\\n\\x03age\\x12\\x05\\x1a\\x03\\n\\x01\\x1b', shape=(), dtype=string)\n",
      "tf.Tensor(b'\\n\\\\\\n\\x1d\\n\\x05hours\\x12\\x14\\x12\\x12\\n\\x10\\x00\\x00xA\\x00\\x00\\x18A\\x00\\x00\\xe0@\\x00\\x00\\x00A\\n-\\n\\x0efavorite_books\\x12\\x1b\\n\\x19\\n\\x10machine learning\\n\\x05cc150\\n\\x0c\\n\\x03age\\x12\\x05\\x1a\\x03\\n\\x01\\x1b', shape=(), dtype=string)\n"
     ]
    }
   ],
   "source": [
    "#把example存到tfrecord文件中，生成一个具体的tfrecord文件\n",
    "\n",
    "output_dir = \"tfrecord_basic\"\n",
    "if not os.path.exists(output_dir):\n",
    "    os.mkdir(output_dir)\n",
    "filename = \"test.tfrecords\"\n",
    "filename_fullpath = os.path.join(output_dir, filename)\n",
    "with tf.io.TFRecordWriter(filename_fullpath) as writer:\n",
    "    for i in range(3):#往这个tfrecord文件中写三遍上面的序列化字符串\n",
    "        writer.write(serialized_example)\n",
    "#然后我们进入tfrecord_basic文件夹下可以看到 test.tfrecords 文件\n",
    "\n",
    "#tf.data读取tfrecord文件\n",
    "dataset = tf.data.TFRecordDataset([filename_fullpath])\n",
    "for serialized_example_tensor in dataset:\n",
    "    print(serialized_example_tensor)"
   ]
  },
  {
   "cell_type": "code",
   "execution_count": 5,
   "metadata": {},
   "outputs": [
    {
     "name": "stdout",
     "output_type": "stream",
     "text": [
      "{'favorite_books': <tensorflow.python.framework.sparse_tensor.SparseTensor object at 0x7f29db014d68>, 'hours': <tensorflow.python.framework.sparse_tensor.SparseTensor object at 0x7f29db014a90>, 'age': <tf.Tensor: id=46, shape=(), dtype=int64, numpy=27>}\n",
      "machine learning\n",
      "cc150\n",
      "27\n",
      "{'favorite_books': <tensorflow.python.framework.sparse_tensor.SparseTensor object at 0x7f29d0131588>, 'hours': <tensorflow.python.framework.sparse_tensor.SparseTensor object at 0x7f29d013a5c0>, 'age': <tf.Tensor: id=65, shape=(), dtype=int64, numpy=27>}\n",
      "machine learning\n",
      "cc150\n",
      "27\n",
      "{'favorite_books': <tensorflow.python.framework.sparse_tensor.SparseTensor object at 0x7f29db014eb8>, 'hours': <tensorflow.python.framework.sparse_tensor.SparseTensor object at 0x7f29d01316a0>, 'age': <tf.Tensor: id=84, shape=(), dtype=int64, numpy=27>}\n",
      "machine learning\n",
      "cc150\n",
      "27\n"
     ]
    }
   ],
   "source": [
    "#将序列化的字符串解析还原成example\n",
    "\n",
    "#定义三个特征的具体类型\n",
    "expected_features = {\n",
    "    \"favorite_books\": tf.io.VarLenFeature(dtype=tf.string),\n",
    "    \"hours\": tf.io.VarLenFeature(dtype=tf.float32),\n",
    "    \"age\": tf.io.FixedLenFeature([], dtype=tf.int64)\n",
    "}\n",
    "\n",
    "#tf.data读取tfrecord文件\n",
    "dataset = tf.data.TFRecordDataset([filename_fullpath])\n",
    "for serialized_example_tensor in dataset:\n",
    "    example = tf.io.parse_single_example(serialized_example_tensor, expected_features)\n",
    "    print(example) #\"favorite_books\" 和 \"hours\" 都是 sparse_tensor\n",
    "\n",
    "    books = tf.sparse.to_dense(example[\"favorite_books\"], default_value=b\"\")\n",
    "    for book in books:\n",
    "        print(book.numpy().decode(\"UTF-8\"))\n",
    "\n",
    "#     hours = tf.sparse.to_dense(example[\"hours\"], default_value=float32)\n",
    "#     for hour in hours:\n",
    "#         print(hour.numpy())\n",
    "\n",
    "    print(example[\"age\"].numpy())\n",
    "        \n",
    "#{'favorite_books': <tensorflow.python.framework.sparse_tensor.SparseTensor object at 0x7f56d0ffba90>, 'hours': <tensorflow.python.framework.sparse_tensor.SparseTensor object at 0x7f57512479b0>, 'age': <tf.Tensor: id=46, shape=(), dtype=int64, numpy=27>}\n",
    "# ”favorite_books“ 和 ”hours“ 都是 sparse tensor"
   ]
  },
  {
   "cell_type": "code",
   "execution_count": 6,
   "metadata": {},
   "outputs": [
    {
     "name": "stdout",
     "output_type": "stream",
     "text": [
      "{'favorite_books': <tensorflow.python.framework.sparse_tensor.SparseTensor object at 0x7f29d01444a8>, 'hours': <tensorflow.python.framework.sparse_tensor.SparseTensor object at 0x7f29d0144710>, 'age': <tf.Tensor: id=120, shape=(), dtype=int64, numpy=27>}\n",
      "machine learning\n",
      "cc150\n",
      "27\n",
      "{'favorite_books': <tensorflow.python.framework.sparse_tensor.SparseTensor object at 0x7f29db045390>, 'hours': <tensorflow.python.framework.sparse_tensor.SparseTensor object at 0x7f29d013a5c0>, 'age': <tf.Tensor: id=139, shape=(), dtype=int64, numpy=27>}\n",
      "machine learning\n",
      "cc150\n",
      "27\n",
      "{'favorite_books': <tensorflow.python.framework.sparse_tensor.SparseTensor object at 0x7f29d0144710>, 'hours': <tensorflow.python.framework.sparse_tensor.SparseTensor object at 0x7f29d0144390>, 'age': <tf.Tensor: id=158, shape=(), dtype=int64, numpy=27>}\n",
      "machine learning\n",
      "cc150\n",
      "27\n"
     ]
    }
   ],
   "source": [
    "#将tfrecord存储为压缩格式的文件\n",
    "\n",
    "filename_fullpath_zip = filename_fullpath + \".zip\"\n",
    "options = tf.io.TFRecordOptions(compression_type=\"GZIP\")#设置tfrecord文件的压缩格式\n",
    "\n",
    "with tf.io.TFRecordWriter(filename_fullpath_zip, options) as writer:\n",
    "    for i in range(3):#往这个tfrecord文件中写三遍上面的序列化字符串\n",
    "        writer.write(serialized_example)\n",
    "#然后我们进入tfrecord_basic文件夹下可以看到 test.tfrecords.zip 文件，该文件大小仅压缩前文件大小的一半\n",
    "\n",
    "\n",
    "#读取压缩的tfrecord文件\n",
    "dataset_zip = tf.data.TFRecordDataset([filename_fullpath_zip],compression_type=\"GZIP\")\n",
    "for serialized_example_tensor in dataset_zip:\n",
    "    example = tf.io.parse_single_example(serialized_example_tensor, expected_features)\n",
    "    print(example) #\"favorite_books\" 和 \"hours\" 都是 sparse_tensor\n",
    "\n",
    "    books = tf.sparse.to_dense(example[\"favorite_books\"], default_value=b\"\")\n",
    "    for book in books:\n",
    "        print(book.numpy().decode(\"UTF-8\"))\n",
    "\n",
    "#     hours = tf.sparse.to_dense(example[\"hours\"], default_value=float32)\n",
    "#     for hour in hours:\n",
    "#         print(hour.numpy())\n",
    "\n",
    "    print(example[\"age\"].numpy())\n",
    "\n"
   ]
  },
  {
   "cell_type": "code",
   "execution_count": null,
   "metadata": {},
   "outputs": [],
   "source": []
  }
 ],
 "metadata": {
  "kernelspec": {
   "display_name": "Python 3",
   "language": "python",
   "name": "python3"
  },
  "language_info": {
   "codemirror_mode": {
    "name": "ipython",
    "version": 3
   },
   "file_extension": ".py",
   "mimetype": "text/x-python",
   "name": "python",
   "nbconvert_exporter": "python",
   "pygments_lexer": "ipython3",
   "version": "3.6.9"
  }
 },
 "nbformat": 4,
 "nbformat_minor": 2
}
